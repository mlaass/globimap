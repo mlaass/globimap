{
 "cells": [
  {
   "cell_type": "code",
   "execution_count": 2,
   "id": "f793d8c5-b308-48e1-8fbe-502bf1d87a7c",
   "metadata": {},
   "outputs": [
    {
     "name": "stderr",
     "output_type": "stream",
     "text": [
      "also installing the dependencies ‘bdsmatrix’, ‘mvtnorm’, ‘pracma’, ‘bbmle’, ‘VGAM’, ‘poilog’, ‘GUILDS’\n",
      "\n",
      "\n",
      "Updating HTML index of packages in '.Library'\n",
      "\n",
      "Making 'packages.html' ...\n",
      " done\n",
      "\n"
     ]
    }
   ],
   "source": [
    "install.packages(\"sads\")"
   ]
  },
  {
   "cell_type": "code",
   "execution_count": null,
   "id": "67b06da7-4f2e-4ced-972e-277522777ced",
   "metadata": {},
   "outputs": [],
   "source": []
  },
  {
   "cell_type": "code",
   "execution_count": 2,
   "id": "cbccfc65-3b10-4046-be43-2ab98ac6e3a5",
   "metadata": {},
   "outputs": [
    {
     "data": {
      "text/html": [
       "<strong>png:</strong> 2"
      ],
      "text/latex": [
       "\\textbf{png:} 2"
      ],
      "text/markdown": [
       "**png:** 2"
      ],
      "text/plain": [
       "png \n",
       "  2 "
      ]
     },
     "metadata": {},
     "output_type": "display_data"
    },
    {
     "name": "stdout",
     "output_type": "stream",
     "text": [
      "[1] \"zipf\"\n",
      "[1] \"mand\"\n"
     ]
    },
    {
     "name": "stderr",
     "output_type": "stream",
     "text": [
      "Warning message in dmand(y, N = N, s = s, v = v, log = TRUE):\n",
      "“NaNs produced”\n",
      "Warning message in dmand(y, N = N, s = s, v = v, log = TRUE):\n",
      "“NaNs produced”\n",
      "Warning message in dmand(y, N = N, s = s, v = v, log = TRUE):\n",
      "“NaNs produced”\n",
      "Warning message in dmand(y, N = N, s = s, v = v, log = TRUE):\n",
      "“NaNs produced”\n",
      "Warning message in dmand(y, N = N, s = s, v = v, log = TRUE):\n",
      "“NaNs produced”\n",
      "Warning message in dmand(y, N = N, s = s, v = v, log = TRUE):\n",
      "“NaNs produced”\n",
      "Warning message in dmand(y, N = N, s = s, v = v, log = TRUE):\n",
      "“NaNs produced”\n",
      "Warning message in dmand(y, N = N, s = s, v = v, log = TRUE):\n",
      "“NaNs produced”\n",
      "Warning message in dmand(y, N = N, s = s, v = v, log = TRUE):\n",
      "“NaNs produced”\n",
      "Warning message in dmand(y, N = N, s = s, v = v, log = TRUE):\n",
      "“NaNs produced”\n",
      "Warning message in dmand(y, N = N, s = s, v = v, log = TRUE):\n",
      "“NaNs produced”\n",
      "Warning message in dmand(y, N = N, s = s, v = v, log = TRUE):\n",
      "“NaNs produced”\n",
      "Warning message in dmand(y, N = N, s = s, v = v, log = TRUE):\n",
      "“NaNs produced”\n",
      "Warning message in dmand(y, N = N, s = s, v = v, log = TRUE):\n",
      "“NaNs produced”\n",
      "Warning message in dmand(y, N = N, s = s, v = v, log = TRUE):\n",
      "“NaNs produced”\n",
      "Warning message in dmand(y, N = N, s = s, v = v, log = TRUE):\n",
      "“NaNs produced”\n",
      "Warning message in dmand(y, N = N, s = s, v = v, log = TRUE):\n",
      "“NaNs produced”\n",
      "Warning message in dmand(y, N = N, s = s, v = v, log = TRUE):\n",
      "“NaNs produced”\n",
      "Warning message in dmand(y, N = N, s = s, v = v, log = TRUE):\n",
      "“NaNs produced”\n",
      "Warning message in dmand(y, N = N, s = s, v = v, log = TRUE):\n",
      "“NaNs produced”\n",
      "Warning message in dmand(y, N = N, s = s, v = v, log = TRUE):\n",
      "“NaNs produced”\n",
      "Warning message in dmand(y, N = N, s = s, v = v, log = TRUE):\n",
      "“NaNs produced”\n",
      "Warning message in dmand(y, N = N, s = s, v = v, log = TRUE):\n",
      "“NaNs produced”\n"
     ]
    },
    {
     "name": "stdout",
     "output_type": "stream",
     "text": [
      "[1] \"rbs\"\n",
      "[1] \"plotted\"\n",
      "[1] \"zipf\"\n",
      "[1] \"mand\"\n"
     ]
    },
    {
     "name": "stderr",
     "output_type": "stream",
     "text": [
      "Warning message in dmand(y, N = N, s = s, v = v, log = TRUE):\n",
      "“NaNs produced”\n",
      "Warning message in dmand(y, N = N, s = s, v = v, log = TRUE):\n",
      "“NaNs produced”\n",
      "Warning message in dmand(y, N = N, s = s, v = v, log = TRUE):\n",
      "“NaNs produced”\n",
      "Warning message in dmand(y, N = N, s = s, v = v, log = TRUE):\n",
      "“NaNs produced”\n",
      "Warning message in dmand(y, N = N, s = s, v = v, log = TRUE):\n",
      "“NaNs produced”\n",
      "Warning message in dmand(y, N = N, s = s, v = v, log = TRUE):\n",
      "“NaNs produced”\n",
      "Warning message in dmand(y, N = N, s = s, v = v, log = TRUE):\n",
      "“NaNs produced”\n",
      "Warning message in dmand(y, N = N, s = s, v = v, log = TRUE):\n",
      "“NaNs produced”\n",
      "Warning message in dmand(y, N = N, s = s, v = v, log = TRUE):\n",
      "“NaNs produced”\n",
      "Warning message in dmand(y, N = N, s = s, v = v, log = TRUE):\n",
      "“NaNs produced”\n",
      "Warning message in dmand(y, N = N, s = s, v = v, log = TRUE):\n",
      "“NaNs produced”\n",
      "Warning message in dmand(y, N = N, s = s, v = v, log = TRUE):\n",
      "“NaNs produced”\n",
      "Warning message in dmand(y, N = N, s = s, v = v, log = TRUE):\n",
      "“NaNs produced”\n",
      "Warning message in dmand(y, N = N, s = s, v = v, log = TRUE):\n",
      "“NaNs produced”\n",
      "Warning message in dmand(y, N = N, s = s, v = v, log = TRUE):\n",
      "“NaNs produced”\n",
      "Warning message in dmand(y, N = N, s = s, v = v, log = TRUE):\n",
      "“NaNs produced”\n",
      "Warning message in dmand(y, N = N, s = s, v = v, log = TRUE):\n",
      "“NaNs produced”\n",
      "Warning message in dmand(y, N = N, s = s, v = v, log = TRUE):\n",
      "“NaNs produced”\n",
      "Warning message in dmand(y, N = N, s = s, v = v, log = TRUE):\n",
      "“NaNs produced”\n",
      "Warning message in dmand(y, N = N, s = s, v = v, log = TRUE):\n",
      "“NaNs produced”\n",
      "Warning message in dmand(y, N = N, s = s, v = v, log = TRUE):\n",
      "“NaNs produced”\n",
      "Warning message in dmand(y, N = N, s = s, v = v, log = TRUE):\n",
      "“NaNs produced”\n",
      "Warning message in dmand(y, N = N, s = s, v = v, log = TRUE):\n",
      "“NaNs produced”\n",
      "Warning message in dmand(y, N = N, s = s, v = v, log = TRUE):\n",
      "“NaNs produced”\n",
      "Warning message in dmand(y, N = N, s = s, v = v, log = TRUE):\n",
      "“NaNs produced”\n",
      "Warning message in dmand(y, N = N, s = s, v = v, log = TRUE):\n",
      "“NaNs produced”\n",
      "Warning message in dmand(y, N = N, s = s, v = v, log = TRUE):\n",
      "“NaNs produced”\n",
      "Warning message in dmand(y, N = N, s = s, v = v, log = TRUE):\n",
      "“NaNs produced”\n",
      "Warning message in dmand(y, N = N, s = s, v = v, log = TRUE):\n",
      "“NaNs produced”\n",
      "Warning message in dmand(y, N = N, s = s, v = v, log = TRUE):\n",
      "“NaNs produced”\n",
      "Warning message in dmand(y, N = N, s = s, v = v, log = TRUE):\n",
      "“NaNs produced”\n",
      "Warning message in dmand(y, N = N, s = s, v = v, log = TRUE):\n",
      "“NaNs produced”\n",
      "Warning message in dmand(y, N = N, s = s, v = v, log = TRUE):\n",
      "“NaNs produced”\n",
      "Warning message in dmand(y, N = N, s = s, v = v, log = TRUE):\n",
      "“NaNs produced”\n",
      "Warning message in dmand(y, N = N, s = s, v = v, log = TRUE):\n",
      "“NaNs produced”\n",
      "Warning message in dmand(y, N = N, s = s, v = v, log = TRUE):\n",
      "“NaNs produced”\n",
      "Warning message in dmand(y, N = N, s = s, v = v, log = TRUE):\n",
      "“NaNs produced”\n",
      "Warning message in dmand(y, N = N, s = s, v = v, log = TRUE):\n",
      "“NaNs produced”\n",
      "Warning message in dmand(y, N = N, s = s, v = v, log = TRUE):\n",
      "“NaNs produced”\n"
     ]
    },
    {
     "name": "stdout",
     "output_type": "stream",
     "text": [
      "[1] \"rbs\"\n",
      "[1] \"plotted\"\n"
     ]
    }
   ],
   "source": [
    "library(sads)\n",
    "\n",
    "data(okland)\n",
    "png(\"view.png\")\n",
    "plot(rad(okland))\n",
    "ok.gs <- fitrad(okland, \"gs\")\n",
    "lines(radpred(ok.gs))\n",
    "dev.off()\n",
    "\n",
    "\n",
    "\n",
    "clist <- c(\"twitter_200mio\", \"asia_200mio\")\n",
    "for (i in clist) {\n",
    "    d = read.table(paste(\"\",i,\"-abundance.dat\", sep=\"\"))\n",
    "    #print(d)   \n",
    "    d = d$V1;\n",
    "    png(paste(\"abundance_plot\",i,\"view.png\", sep=\"-\"))\n",
    "    plot(rad(d))\n",
    "    \n",
    "    print(\"zipf\")\n",
    "    ok.zipf <- fitrad(d, \"zipf\")\n",
    "    lines(radpred(ok.zipf), col=\"red\"  ,lty=1)\n",
    "    \n",
    "    print(\"mand\")\n",
    "    ok.mand <- fitrad(d, \"mand\")\n",
    "    lines(radpred(ok.mand), col=\"blue\",lty=2)  \n",
    "    \n",
    "    print(\"rbs\")\n",
    "    ok.rbs <- fitrad(d, \"rbs\")\n",
    "    lines( radpred(ok.rbs), col=\"green\",lty=3)\n",
    "\n",
    "        \n",
    "    #print(\"rbs+mand\")\n",
    "    #lines((rbs+mand)/2, col=\"purple\",lty=4)\n",
    "    \n",
    "    legend(\"topright\", legend=c(\"Zipf\", \"Mandelbrodt\", \"Broken-stick\"),title=\"Fitted rank-abundance distributions\",\n",
    "       col=c(\"red\", \"blue\", \"green\"), lty=1:3, cex=0.8)\n",
    "    dev.off()\n",
    "    print(\"plotted\")\n",
    "}\n",
    "\n"
   ]
  },
  {
   "cell_type": "code",
   "execution_count": null,
   "id": "ee490b76-bb79-432d-b6d5-2e41a2c3c6d2",
   "metadata": {},
   "outputs": [],
   "source": []
  }
 ],
 "metadata": {
  "kernelspec": {
   "display_name": "R",
   "language": "R",
   "name": "ir"
  },
  "language_info": {
   "codemirror_mode": "r",
   "file_extension": ".r",
   "mimetype": "text/x-r-source",
   "name": "R",
   "pygments_lexer": "r",
   "version": "4.1.2"
  }
 },
 "nbformat": 4,
 "nbformat_minor": 5
}
