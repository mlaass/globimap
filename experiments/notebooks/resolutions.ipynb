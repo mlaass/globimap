{
 "cells": [
  {
   "cell_type": "code",
   "execution_count": 3,
   "metadata": {},
   "outputs": [
    {
     "name": "stdout",
     "output_type": "stream",
     "text": [
      "Requirement already satisfied: geojson in /usr/local/lib/python3.6/dist-packages (2.5.0)\n",
      "Requirement already satisfied: h5py in /usr/local/lib/python3.6/dist-packages (2.10.0)\n",
      "Requirement already satisfied: pandas in /usr/local/lib/python3.6/dist-packages (1.1.5)\n",
      "Collecting tqdm\n",
      "  Downloading tqdm-4.62.3-py2.py3-none-any.whl (76 kB)\n",
      "\u001b[K     |████████████████████████████████| 76 kB 4.1 MB/s eta 0:00:011\n",
      "\u001b[?25hRequirement already satisfied: six in /usr/local/lib/python3.6/dist-packages (from h5py) (1.15.0)\n",
      "Requirement already satisfied: numpy>=1.7 in /usr/local/lib/python3.6/dist-packages (from h5py) (1.19.5)\n",
      "Requirement already satisfied: pytz>=2017.2 in /usr/local/lib/python3.6/dist-packages (from pandas) (2021.3)\n",
      "Requirement already satisfied: python-dateutil>=2.7.3 in /usr/local/lib/python3.6/dist-packages (from pandas) (2.8.1)\n",
      "Installing collected packages: tqdm\n",
      "Successfully installed tqdm-4.62.3\n",
      "\u001b[33mWARNING: You are using pip version 20.2.4; however, version 21.3.1 is available.\n",
      "You should consider upgrading via the '/usr/bin/python3 -m pip install --upgrade pip' command.\u001b[0m\n"
     ]
    }
   ],
   "source": [
    "!pip install geojson h5py pandas tqdm"
   ]
  },
  {
   "cell_type": "code",
   "execution_count": 4,
   "metadata": {},
   "outputs": [],
   "source": [
    " from geojson import GeometryCollection, Point, LineString\n",
    "import h5py\n",
    "import tqdm\n",
    "import numpy as np\n"
   ]
  },
  {
   "cell_type": "code",
   "execution_count": null,
   "metadata": {},
   "outputs": [],
   "source": [
    "hf = h5py.File(\"/tf/pointclouds_2d/data/twitter.h5\",\"r\")\n",
    "coords = hf['coords'];\n",
    "\n",
    "bounds = [-74.7671,40.4207,-73.5256,41.0865]\n",
    "\n",
    "\n",
    "len(coords)"
   ]
  },
  {
   "cell_type": "code",
   "execution_count": 4,
   "metadata": {},
   "outputs": [
    {
     "name": "stdout",
     "output_type": "stream",
     "text": [
      "batches: 104428\n"
     ]
    },
    {
     "name": "stderr",
     "output_type": "stream",
     "text": [
      "  2%|▏         | 2595/104428 [00:10<06:54, 245.85it/s]\n"
     ]
    },
    {
     "ename": "KeyboardInterrupt",
     "evalue": "",
     "output_type": "error",
     "traceback": [
      "\u001b[0;31m---------------------------------------------------------------------------\u001b[0m",
      "\u001b[0;31mKeyboardInterrupt\u001b[0m                         Traceback (most recent call last)",
      "\u001b[0;32m<ipython-input-4-472d63a4a0aa>\u001b[0m in \u001b[0;36m<module>\u001b[0;34m\u001b[0m\n\u001b[1;32m      8\u001b[0m     \u001b[0;31m#print(f\"batch {batch}/{batches}\")\u001b[0m\u001b[0;34m\u001b[0m\u001b[0;34m\u001b[0m\u001b[0;34m\u001b[0m\u001b[0m\n\u001b[1;32m      9\u001b[0m     \u001b[0;32mfor\u001b[0m \u001b[0mc\u001b[0m \u001b[0;32min\u001b[0m \u001b[0mlist\u001b[0m\u001b[0;34m(\u001b[0m\u001b[0mcoords\u001b[0m\u001b[0;34m[\u001b[0m\u001b[0mbatch\u001b[0m\u001b[0;34m*\u001b[0m\u001b[0mbs\u001b[0m\u001b[0;34m:\u001b[0m\u001b[0;34m(\u001b[0m\u001b[0mbatch\u001b[0m\u001b[0;34m+\u001b[0m\u001b[0;36m1\u001b[0m\u001b[0;34m)\u001b[0m\u001b[0;34m*\u001b[0m\u001b[0mbs\u001b[0m\u001b[0;34m]\u001b[0m\u001b[0;34m)\u001b[0m\u001b[0;34m:\u001b[0m\u001b[0;34m\u001b[0m\u001b[0;34m\u001b[0m\u001b[0m\n\u001b[0;32m---> 10\u001b[0;31m         \u001b[0;32mif\u001b[0m \u001b[0mc\u001b[0m\u001b[0;34m[\u001b[0m\u001b[0;36m0\u001b[0m\u001b[0;34m]\u001b[0m \u001b[0;34m>\u001b[0m \u001b[0mbounds\u001b[0m\u001b[0;34m[\u001b[0m\u001b[0;36m0\u001b[0m\u001b[0;34m]\u001b[0m \u001b[0;32mand\u001b[0m \u001b[0mc\u001b[0m\u001b[0;34m[\u001b[0m\u001b[0;36m0\u001b[0m\u001b[0;34m]\u001b[0m \u001b[0;34m<\u001b[0m\u001b[0mbounds\u001b[0m\u001b[0;34m[\u001b[0m\u001b[0;36m2\u001b[0m\u001b[0;34m]\u001b[0m \u001b[0;32mand\u001b[0m \u001b[0mc\u001b[0m\u001b[0;34m[\u001b[0m\u001b[0;36m1\u001b[0m\u001b[0;34m]\u001b[0m \u001b[0;34m>\u001b[0m \u001b[0mbounds\u001b[0m\u001b[0;34m[\u001b[0m\u001b[0;36m1\u001b[0m\u001b[0;34m]\u001b[0m \u001b[0;32mand\u001b[0m \u001b[0mc\u001b[0m\u001b[0;34m[\u001b[0m\u001b[0;36m1\u001b[0m\u001b[0;34m]\u001b[0m \u001b[0;34m<\u001b[0m\u001b[0mbounds\u001b[0m\u001b[0;34m[\u001b[0m\u001b[0;36m3\u001b[0m\u001b[0;34m]\u001b[0m\u001b[0;34m:\u001b[0m\u001b[0;34m\u001b[0m\u001b[0;34m\u001b[0m\u001b[0m\n\u001b[0m\u001b[1;32m     11\u001b[0m             \u001b[0;31m#print(c[0], c[1])\u001b[0m\u001b[0;34m\u001b[0m\u001b[0;34m\u001b[0m\u001b[0;34m\u001b[0m\u001b[0m\n\u001b[1;32m     12\u001b[0m             \u001b[0;31m#coord_list.append(Point((np.asscalar(c[0]), np.asscalar(c[1]))))\u001b[0m\u001b[0;34m\u001b[0m\u001b[0;34m\u001b[0m\u001b[0;34m\u001b[0m\u001b[0m\n",
      "\u001b[0;31mKeyboardInterrupt\u001b[0m: "
     ]
    }
   ],
   "source": [
    "bs = 2048\n",
    "batches = int(len(coords)/bs)\n",
    "print(f\"batches: {batches}\")\n",
    "#batches = 1\n",
    "coord_list = []\n",
    "csv = \"lon;lat\\n\"\n",
    "for batch in tqdm.tqdm(range(batches)):\n",
    "    #print(f\"batch {batch}/{batches}\")\n",
    "    for c in list(coords[batch*bs:(batch+1)*bs]):\n",
    "        if c[0] > bounds[0] and c[0] <bounds[2] and c[1] > bounds[1] and c[1] <bounds[3]:\n",
    "            #print(c[0], c[1])            \n",
    "            #coord_list.append(Point((np.asscalar(c[0]), np.asscalar(c[1]))))\n",
    "            csv += str(c[0])+\";\"+str(c[1])+\"\\n\"\n",
    "with open('twitter_new_york.csv', 'w') as f:\n",
    "    f.write(csv)"
   ]
  },
  {
   "cell_type": "code",
   "execution_count": 5,
   "metadata": {},
   "outputs": [
    {
     "ename": "NameError",
     "evalue": "name 'coord_list' is not defined",
     "output_type": "error",
     "traceback": [
      "\u001b[0;31m---------------------------------------------------------------------------\u001b[0m",
      "\u001b[0;31mNameError\u001b[0m                                 Traceback (most recent call last)",
      "\u001b[0;32m<ipython-input-5-fa837f610a72>\u001b[0m in \u001b[0;36m<module>\u001b[0;34m\u001b[0m\n\u001b[0;32m----> 1\u001b[0;31m \u001b[0mgeo_collection\u001b[0m \u001b[0;34m=\u001b[0m \u001b[0mGeometryCollection\u001b[0m\u001b[0;34m(\u001b[0m\u001b[0mcoord_list\u001b[0m\u001b[0;34m)\u001b[0m\u001b[0;34m\u001b[0m\u001b[0;34m\u001b[0m\u001b[0m\n\u001b[0m\u001b[1;32m      2\u001b[0m \u001b[0mprint\u001b[0m\u001b[0;34m(\u001b[0m\u001b[0;34mf\"number of coords: {len(coord_list)}\"\u001b[0m\u001b[0;34m)\u001b[0m\u001b[0;34m\u001b[0m\u001b[0;34m\u001b[0m\u001b[0m\n\u001b[1;32m      3\u001b[0m \u001b[0;34m\u001b[0m\u001b[0m\n\u001b[1;32m      4\u001b[0m \u001b[0mdump\u001b[0m \u001b[0;34m=\u001b[0m \u001b[0mgeojson\u001b[0m\u001b[0;34m.\u001b[0m\u001b[0mdumps\u001b[0m\u001b[0;34m(\u001b[0m\u001b[0mgeo_collection\u001b[0m\u001b[0;34m,\u001b[0m \u001b[0msort_keys\u001b[0m\u001b[0;34m=\u001b[0m\u001b[0;32mTrue\u001b[0m\u001b[0;34m)\u001b[0m\u001b[0;34m\u001b[0m\u001b[0;34m\u001b[0m\u001b[0m\n\u001b[1;32m      5\u001b[0m \u001b[0;32mwith\u001b[0m \u001b[0mopen\u001b[0m\u001b[0;34m(\u001b[0m\u001b[0;34m'twitter_new_york.geojson'\u001b[0m\u001b[0;34m,\u001b[0m \u001b[0;34m'w'\u001b[0m\u001b[0;34m)\u001b[0m \u001b[0;32mas\u001b[0m \u001b[0mf\u001b[0m\u001b[0;34m:\u001b[0m\u001b[0;34m\u001b[0m\u001b[0;34m\u001b[0m\u001b[0m\n",
      "\u001b[0;31mNameError\u001b[0m: name 'coord_list' is not defined"
     ]
    }
   ],
   "source": [
    "geo_collection = GeometryCollection(coord_list)\n",
    "print(f\"number of coords: {len(coord_list)}\")\n",
    "\n",
    "dump = geojson.dumps(geo_collection, sort_keys=True)\n",
    "with open('twitter_new_york.geojson', 'w') as f:\n",
    "    geojson.dump(geo_collection,  f, sort_keys=True,)"
   ]
  },
  {
   "cell_type": "code",
   "execution_count": 6,
   "metadata": {},
   "outputs": [],
   "source": [
    "import pandas as pd"
   ]
  },
  {
   "cell_type": "code",
   "execution_count": 4,
   "metadata": {},
   "outputs": [
    {
     "data": {
      "text/html": [
       "<div>\n",
       "<style scoped>\n",
       "    .dataframe tbody tr th:only-of-type {\n",
       "        vertical-align: middle;\n",
       "    }\n",
       "\n",
       "    .dataframe tbody tr th {\n",
       "        vertical-align: top;\n",
       "    }\n",
       "\n",
       "    .dataframe thead th {\n",
       "        text-align: right;\n",
       "    }\n",
       "</style>\n",
       "<table border=\"1\" class=\"dataframe\">\n",
       "  <thead>\n",
       "    <tr style=\"text-align: right;\">\n",
       "      <th></th>\n",
       "      <th>lon</th>\n",
       "      <th>lat</th>\n",
       "    </tr>\n",
       "  </thead>\n",
       "  <tbody>\n",
       "    <tr>\n",
       "      <th>0</th>\n",
       "      <td>-74.00640</td>\n",
       "      <td>40.714200</td>\n",
       "    </tr>\n",
       "    <tr>\n",
       "      <th>1</th>\n",
       "      <td>-74.06773</td>\n",
       "      <td>40.739060</td>\n",
       "    </tr>\n",
       "    <tr>\n",
       "      <th>2</th>\n",
       "      <td>-74.06773</td>\n",
       "      <td>40.739060</td>\n",
       "    </tr>\n",
       "    <tr>\n",
       "      <th>3</th>\n",
       "      <td>-73.84509</td>\n",
       "      <td>40.746350</td>\n",
       "    </tr>\n",
       "    <tr>\n",
       "      <th>4</th>\n",
       "      <td>-74.00088</td>\n",
       "      <td>40.731377</td>\n",
       "    </tr>\n",
       "  </tbody>\n",
       "</table>\n",
       "</div>"
      ],
      "text/plain": [
       "        lon        lat\n",
       "0 -74.00640  40.714200\n",
       "1 -74.06773  40.739060\n",
       "2 -74.06773  40.739060\n",
       "3 -73.84509  40.746350\n",
       "4 -74.00088  40.731377"
      ]
     },
     "execution_count": 4,
     "metadata": {},
     "output_type": "execute_result"
    }
   ],
   "source": [
    "ny = pd.read_csv(\"twitter_new_york.csv\",sep=';', names=['lon', 'lat'], usecols=['lat', 'lon'], header=0)\n",
    "ny.head()"
   ]
  },
  {
   "cell_type": "code",
   "execution_count": 5,
   "metadata": {},
   "outputs": [
    {
     "data": {
      "text/html": [
       "<div>\n",
       "<style scoped>\n",
       "    .dataframe tbody tr th:only-of-type {\n",
       "        vertical-align: middle;\n",
       "    }\n",
       "\n",
       "    .dataframe tbody tr th {\n",
       "        vertical-align: top;\n",
       "    }\n",
       "\n",
       "    .dataframe thead th {\n",
       "        text-align: right;\n",
       "    }\n",
       "</style>\n",
       "<table border=\"1\" class=\"dataframe\">\n",
       "  <thead>\n",
       "    <tr style=\"text-align: right;\">\n",
       "      <th></th>\n",
       "      <th>lon</th>\n",
       "      <th>lat</th>\n",
       "      <th>blon</th>\n",
       "      <th>blat</th>\n",
       "    </tr>\n",
       "  </thead>\n",
       "  <tbody>\n",
       "    <tr>\n",
       "      <th>0</th>\n",
       "      <td>-74.00640</td>\n",
       "      <td>40.714200</td>\n",
       "      <td>0.294427</td>\n",
       "      <td>0.726190</td>\n",
       "    </tr>\n",
       "    <tr>\n",
       "      <th>1</th>\n",
       "      <td>-74.06773</td>\n",
       "      <td>40.739060</td>\n",
       "      <td>0.294256</td>\n",
       "      <td>0.726328</td>\n",
       "    </tr>\n",
       "    <tr>\n",
       "      <th>2</th>\n",
       "      <td>-74.06773</td>\n",
       "      <td>40.739060</td>\n",
       "      <td>0.294256</td>\n",
       "      <td>0.726328</td>\n",
       "    </tr>\n",
       "    <tr>\n",
       "      <th>3</th>\n",
       "      <td>-73.84509</td>\n",
       "      <td>40.746350</td>\n",
       "      <td>0.294875</td>\n",
       "      <td>0.726369</td>\n",
       "    </tr>\n",
       "    <tr>\n",
       "      <th>4</th>\n",
       "      <td>-74.00088</td>\n",
       "      <td>40.731377</td>\n",
       "      <td>0.294442</td>\n",
       "      <td>0.726285</td>\n",
       "    </tr>\n",
       "  </tbody>\n",
       "</table>\n",
       "</div>"
      ],
      "text/plain": [
       "        lon        lat      blon      blat\n",
       "0 -74.00640  40.714200  0.294427  0.726190\n",
       "1 -74.06773  40.739060  0.294256  0.726328\n",
       "2 -74.06773  40.739060  0.294256  0.726328\n",
       "3 -73.84509  40.746350  0.294875  0.726369\n",
       "4 -74.00088  40.731377  0.294442  0.726285"
      ]
     },
     "execution_count": 5,
     "metadata": {},
     "output_type": "execute_result"
    }
   ],
   "source": [
    "ny['blon']=(ny[\"lon\"]+180)/360\n",
    "ny['blat']=(ny[\"lat\"]+90)/180\n",
    "ny.head()"
   ]
  },
  {
   "cell_type": "code",
   "execution_count": 6,
   "metadata": {},
   "outputs": [
    {
     "name": "stdout",
     "output_type": "stream",
     "text": [
      "2048 1024\n",
      "4096 2048\n",
      "8192 4096\n",
      "16384 8192\n"
     ]
    }
   ],
   "source": [
    "resolutions = [2048, 4096, 8192, 8192*2]\n",
    "\n",
    "for r in resolutions:\n",
    "    rh = int(r/2)\n",
    "    print(r, rh)\n",
    "    ny2=ny[['blat','blon']].rename({'blat':'lat','blon':'lon'}, axis=1)\n",
    "    ny2['lat'] = (np.floor(ny2['lat']*r)/r *180)-90\n",
    "    ny2['lon'] = (np.floor(ny2['lon']*r)/r  *360)-180\n",
    "    ny2.to_csv(f'twitter_new_york_res_{r}x{r}.csv', index=False)\n"
   ]
  },
  {
   "cell_type": "code",
   "execution_count": 7,
   "metadata": {},
   "outputs": [
    {
     "data": {
      "image/png": "[encoded data removed]",
      "text/plain": [
       "<Figure size 576x576 with 1 Axes>"
      ]
     },
     "metadata": {
      "needs_background": "light"
     },
     "output_type": "display_data"
    }
   ],
   "source": [
    "import numpy as np\n",
    "import math\n",
    "from matplotlib import pyplot as plt\n",
    "import matplotlib.backends.backend_pdf as pdf\n",
    "from mpl_toolkits.mplot3d import axes3d\n",
    "figsize = (8,8)\n",
    "def save_figs(fn):\n",
    "    print(f\"-->  Saving all figures... {fn}\")\n",
    "    out_pdf = pdf.PdfPages(fn)\n",
    "    for fig in tqdm.tqdm(range(1, plt.gcf().number+1)):\n",
    "        out_pdf.savefig( fig )\n",
    "    out_pdf.close()\n",
    "    plt.close(\"all\")\n",
    "    \n",
    "data = np.random.normal(100, 1, 5000) \n",
    "\n",
    "\n",
    "\n",
    "def plot_hist(data, title=\"title\", xlab=\"x\", ylab=\"y\", bins=20, log=False, xlim_min=None, xlim_max=None):\n",
    "    plt.figure(figsize=figsize)\n",
    "    bins = np.linspace(math.ceil(min(data)), \n",
    "                       math.floor(max(data)),\n",
    "                       bins) # fixed number of bins\n",
    "    xlim = [min(data)-5, max(data)+5]\n",
    "    if  xlim_min != None:\n",
    "        xlim[0] = xlim_min\n",
    "    if  xlim_max != None:\n",
    "        xlim[1] = xlim_max\n",
    "    \n",
    "    plt.xlim(xlim)\n",
    "\n",
    "    if(log):\n",
    "        plt.hist(np.log10(data), bins=bins, alpha=0.5)\n",
    "        \n",
    "    else:\n",
    "        plt.hist(data, bins=bins, alpha=0.5)\n",
    "    plt.title(title)\n",
    "    plt.xlabel(xlab)\n",
    "    plt.ylabel(ylab)\n",
    "\n",
    "    #plt.show()\n",
    "    \n",
    "plot_hist(data, bins=20, xlim_min = 97, xlim_max = 103)\n",
    "plt.show()"
   ]
  },
  {
   "cell_type": "code",
   "execution_count": 8,
   "metadata": {},
   "outputs": [
    {
     "name": "stdout",
     "output_type": "stream",
     "text": [
      "20 ['0', '5', '10', '15', '20', '25', '30', '35', '40', '45', '50', '55', '60', '65', '70', '75', '80', '85', '90', '95']\n"
     ]
    },
    {
     "data": {
      "image/png": "[encoded data removed]",
      "text/plain": [
       "<Figure size 576x576 with 1 Axes>"
      ]
     },
     "metadata": {
      "needs_background": "light"
     },
     "output_type": "display_data"
    }
   ],
   "source": [
    "def plot_percentiles(data, title=\"percentiles\", size=10):\n",
    "    q = np.percentile(list(data), np.arange(0,100,size))\n",
    "    plt.figure(figsize=figsize)\n",
    "    names = [str(x) for x in list(np.arange(0,100,size))]\n",
    "    mx = np.max(q)\n",
    "    \n",
    "    plt.axhline(y = 255, color = 'r', linestyle = ':', label = \"8 bit\")\n",
    "    if(mx >= 65536):\n",
    "        plt.axhline(y = 65536, color = 'r', linestyle = '--', label = \"16 bit\")\n",
    "    if(mx >= pow(2,24)):    \n",
    "        plt.axhline(y = pow(2,24), color = 'r', linestyle = '-', label = \"24 bit\")\n",
    "    \n",
    "    if(mx >= pow(2,32)):    \n",
    "        plt.axhline(y = pow(2,32), color = 'r', linestyle = '-.', label = \"32 bit\")\n",
    "    \n",
    "    print(len(names),names)\n",
    "    plt.bar(names,list(q))\n",
    "    plt.grid()\n",
    "    plt.title(title)\n",
    "    plt.legend( loc = 'upper left')\n",
    "    #plt.show()\n",
    "\n",
    "plot_percentiles(data, size=5)\n",
    "plt.show()"
   ]
  },
  {
   "cell_type": "code",
   "execution_count": 10,
   "metadata": {
    "scrolled": true
   },
   "outputs": [
    {
     "name": "stdout",
     "output_type": "stream",
     "text": [
      "batches: 48828\n",
      "make rmap\n"
     ]
    },
    {
     "name": "stderr",
     "output_type": "stream",
     "text": [
      "100%|██████████| 2048/2048 [00:01<00:00, 1359.91it/s]\n",
      "100%|██████████| 48828/48828 [02:34<00:00, 315.18it/s]\n"
     ]
    },
    {
     "name": "stdout",
     "output_type": "stream",
     "text": [
      "plot start\n",
      "...\n",
      "20 ['0', '5', '10', '15', '20', '25', '30', '35', '40', '45', '50', '55', '60', '65', '70', '75', '80', '85', '90', '95']\n",
      "plot end\n",
      "make rmap\n"
     ]
    },
    {
     "name": "stderr",
     "output_type": "stream",
     "text": [
      "100%|██████████| 4096/4096 [00:07<00:00, 584.25it/s]\n",
      "100%|██████████| 48828/48828 [02:41<00:00, 302.39it/s]\n"
     ]
    },
    {
     "name": "stdout",
     "output_type": "stream",
     "text": [
      "plot start\n",
      "...\n",
      "20 ['0', '5', '10', '15', '20', '25', '30', '35', '40', '45', '50', '55', '60', '65', '70', '75', '80', '85', '90', '95']\n",
      "plot end\n",
      "make rmap\n"
     ]
    },
    {
     "name": "stderr",
     "output_type": "stream",
     "text": [
      "100%|██████████| 8192/8192 [00:30<00:00, 272.95it/s]\n",
      "100%|██████████| 48828/48828 [02:40<00:00, 304.69it/s]\n"
     ]
    },
    {
     "name": "stdout",
     "output_type": "stream",
     "text": [
      "plot start\n",
      "...\n",
      "20 ['0', '5', '10', '15', '20', '25', '30', '35', '40', '45', '50', '55', '60', '65', '70', '75', '80', '85', '90', '95']\n",
      "plot end\n",
      "make rmap\n"
     ]
    },
    {
     "name": "stderr",
     "output_type": "stream",
     "text": [
      "100%|██████████| 16384/16384 [02:02<00:00, 134.02it/s]\n",
      "100%|██████████| 48828/48828 [02:38<00:00, 307.94it/s]\n"
     ]
    },
    {
     "name": "stdout",
     "output_type": "stream",
     "text": [
      "plot start\n",
      "...\n",
      "20 ['0', '5', '10', '15', '20', '25', '30', '35', '40', '45', '50', '55', '60', '65', '70', '75', '80', '85', '90', '95']\n",
      "plot end\n",
      "save_figs\n",
      "-->  Saving all figures... histograms_asia_200mio1.pdf\n"
     ]
    },
    {
     "name": "stderr",
     "output_type": "stream",
     "text": [
      "100%|██████████| 8/8 [00:00<00:00, 16.28it/s]\n"
     ]
    },
    {
     "name": "stdout",
     "output_type": "stream",
     "text": [
      "batches: 48828\n",
      "make rmap\n"
     ]
    },
    {
     "name": "stderr",
     "output_type": "stream",
     "text": [
      "100%|██████████| 2048/2048 [00:01<00:00, 1399.09it/s]\n",
      "100%|██████████| 48828/48828 [02:37<00:00, 309.98it/s]\n"
     ]
    },
    {
     "name": "stdout",
     "output_type": "stream",
     "text": [
      "plot start\n",
      "...\n",
      "20 ['0', '5', '10', '15', '20', '25', '30', '35', '40', '45', '50', '55', '60', '65', '70', '75', '80', '85', '90', '95']\n",
      "plot end\n",
      "make rmap\n"
     ]
    },
    {
     "name": "stderr",
     "output_type": "stream",
     "text": [
      "100%|██████████| 4096/4096 [00:06<00:00, 619.17it/s]\n",
      "100%|██████████| 48828/48828 [02:41<00:00, 303.25it/s]\n"
     ]
    },
    {
     "name": "stdout",
     "output_type": "stream",
     "text": [
      "plot start\n",
      "...\n",
      "20 ['0', '5', '10', '15', '20', '25', '30', '35', '40', '45', '50', '55', '60', '65', '70', '75', '80', '85', '90', '95']\n",
      "plot end\n",
      "make rmap\n"
     ]
    },
    {
     "name": "stderr",
     "output_type": "stream",
     "text": [
      "100%|██████████| 8192/8192 [00:28<00:00, 285.59it/s]\n",
      "100%|██████████| 48828/48828 [02:45<00:00, 295.30it/s]\n"
     ]
    },
    {
     "name": "stdout",
     "output_type": "stream",
     "text": [
      "plot start\n",
      "...\n",
      "20 ['0', '5', '10', '15', '20', '25', '30', '35', '40', '45', '50', '55', '60', '65', '70', '75', '80', '85', '90', '95']\n",
      "plot end\n",
      "make rmap\n"
     ]
    },
    {
     "name": "stderr",
     "output_type": "stream",
     "text": [
      "100%|██████████| 16384/16384 [01:58<00:00, 138.42it/s]\n",
      "100%|██████████| 48828/48828 [02:56<00:00, 276.94it/s]\n"
     ]
    },
    {
     "name": "stdout",
     "output_type": "stream",
     "text": [
      "plot start\n",
      "...\n",
      "20 ['0', '5', '10', '15', '20', '25', '30', '35', '40', '45', '50', '55', '60', '65', '70', '75', '80', '85', '90', '95']\n",
      "plot end\n",
      "save_figs\n",
      "-->  Saving all figures... histograms_twitter_200mio1.pdf\n"
     ]
    },
    {
     "name": "stderr",
     "output_type": "stream",
     "text": [
      "100%|██████████| 8/8 [00:00<00:00, 16.97it/s]\n"
     ]
    }
   ],
   "source": [
    "hf = h5py.File(\"/tf/pointclouds_2d/data/twitter_200mio_coords.h5\",\"r\")\n",
    "datasets = [(\"asia_200mio\",\"/tf/pointclouds_2d/data/asia_200mio_coords.h5\"),(\"twitter_200mio\", \"/tf/pointclouds_2d/data/twitter_200mio_coords.h5\")]\n",
    "\n",
    "resolutions = [2048,4096,8192,16384]\n",
    "for ds, dsfn in datasets:\n",
    "    hf = h5py.File(dsfn,\"r\")\n",
    "    coords = hf['coords'];\n",
    "\n",
    "    len(coords)\n",
    "\n",
    "    bs = 4096\n",
    "    batches = int(len(coords)/bs)\n",
    "    print(f\"batches: {batches}\")\n",
    "    #batches = 10000\n",
    "    coord_list = []\n",
    "    csv = \"lon;lat\\n\"\n",
    "\n",
    "    for r in resolutions:\n",
    "        rmap = {}\n",
    "        print(\"make rmap\")\n",
    "        \n",
    "        for x in tqdm.tqdm(range(r)):\n",
    "            for y in range(r):\n",
    "                id = f'{x}.{y}'\n",
    "                rmap[id] = 0\n",
    "        for batch in tqdm.tqdm(range(batches)):\n",
    "            #print(f\"batch {batch}/{batches}\")\n",
    "            b = coords[batch*bs:(batch+1)*bs]\n",
    "            lat = b[:,1]\n",
    "            lon = b[:,0]\n",
    "            lat = list(np.floor((lat+90)/180*r))\n",
    "            lon = list(np.floor((lon+180)/360)*r)\n",
    "            for c in zip(lon, lat):\n",
    "                id = f'{int(c[0])}.{int(c[1])}'\n",
    "                if c in rmap:\n",
    "                    rmap[c] += 1\n",
    "                else:\n",
    "                    rmap[c] = 1\n",
    "        print(\"plot start\")\n",
    "        rv = list(rmap.values())\n",
    "        del rmap\n",
    "        plot_hist(rv, bins=100, title=f\"Bin Sizes {ds} {r}x{r}\", xlab=\"Bin Size\", ylab=\"# of Bins\", xlim_min = 1, xlim_max = 1e7)\n",
    "        print(\"...\")        \n",
    "        plot_percentiles(rv, title=f\"Bin Size Percentiles {ds} {r}x{r}\", size=5)\n",
    "        print(\"plot end\")\n",
    "        \n",
    "\n",
    "    print(\"save_figs\")\n",
    "    save_figs(f'histograms_{ds}1.pdf')"
   ]
  },
  {
   "cell_type": "code",
   "execution_count": null,
   "metadata": {},
   "outputs": [],
   "source": []
  },
  {
   "cell_type": "code",
   "execution_count": null,
   "metadata": {},
   "outputs": [],
   "source": []
  }
 ],
 "metadata": {
  "kernelspec": {
   "display_name": "Python 3",
   "language": "python",
   "name": "python3"
  },
  "language_info": {
   "codemirror_mode": {
    "name": "ipython",
    "version": 3
   },
   "file_extension": ".py",
   "mimetype": "text/x-python",
   "name": "python",
   "nbconvert_exporter": "python",
   "pygments_lexer": "ipython3",
   "version": "3.6.9"
  }
 },
 "nbformat": 4,
 "nbformat_minor": 2
}
