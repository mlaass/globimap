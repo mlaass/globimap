{
 "cells": [
  {
   "cell_type": "code",
   "execution_count": 2,
   "metadata": {},
   "outputs": [
    {
     "name": "stdout",
     "output_type": "stream",
     "text": [
      "Requirement already satisfied: geojson in /usr/local/lib/python3.6/dist-packages (2.5.0)\n",
      "Requirement already satisfied: h5py in /usr/local/lib/python3.6/dist-packages (2.10.0)\n",
      "Requirement already satisfied: pandas in /usr/local/lib/python3.6/dist-packages (1.1.5)\n",
      "Requirement already satisfied: tqdm in /usr/local/lib/python3.6/dist-packages (4.62.3)\n",
      "Requirement already satisfied: six in /usr/local/lib/python3.6/dist-packages (from h5py) (1.15.0)\n",
      "Requirement already satisfied: numpy>=1.7 in /root/.local/lib/python3.6/site-packages (from h5py) (1.19.5)\n",
      "Requirement already satisfied: pytz>=2017.2 in /usr/local/lib/python3.6/dist-packages (from pandas) (2021.3)\n",
      "Requirement already satisfied: python-dateutil>=2.7.3 in /usr/local/lib/python3.6/dist-packages (from pandas) (2.8.1)\n",
      "\u001b[33mWARNING: You are using pip version 20.2.3; however, version 21.3.1 is available.\n",
      "You should consider upgrading via the '/usr/bin/python3 -m pip install --upgrade pip' command.\u001b[0m\n"
     ]
    }
   ],
   "source": [
    "!pip install geojson h5py pandas tqdm"
   ]
  },
  {
   "cell_type": "code",
   "execution_count": 1,
   "metadata": {},
   "outputs": [],
   "source": [
    " from geojson import GeometryCollection, Point, LineString\n",
    "import h5py\n",
    "import tqdm\n",
    "import numpy as np\n"
   ]
  },
  {
   "cell_type": "code",
   "execution_count": 2,
   "metadata": {},
   "outputs": [
    {
     "data": {
      "text/plain": [
       "213869519"
      ]
     },
     "execution_count": 2,
     "metadata": {},
     "output_type": "execute_result"
    }
   ],
   "source": [
    "hf = h5py.File(\"/tf/pointclouds_2d/data/twitter.h5\",\"r\")\n",
    "coords = hf['coords'];\n",
    "\n",
    "bounds = [-74.7671,40.4207,-73.5256,41.0865]\n",
    "\n",
    "\n",
    "len(coords)"
   ]
  },
  {
   "cell_type": "code",
   "execution_count": 3,
   "metadata": {},
   "outputs": [
    {
     "name": "stdout",
     "output_type": "stream",
     "text": [
      "batches: 104428\n"
     ]
    },
    {
     "name": "stderr",
     "output_type": "stream",
     "text": [
      "  1%|          | 849/104428 [00:03<06:39, 259.29it/s]\n"
     ]
    },
    {
     "ename": "KeyboardInterrupt",
     "evalue": "",
     "output_type": "error",
     "traceback": [
      "\u001b[0;31m---------------------------------------------------------------------------\u001b[0m",
      "\u001b[0;31mKeyboardInterrupt\u001b[0m                         Traceback (most recent call last)",
      "\u001b[0;32m<ipython-input-3-472d63a4a0aa>\u001b[0m in \u001b[0;36m<module>\u001b[0;34m\u001b[0m\n\u001b[1;32m      8\u001b[0m     \u001b[0;31m#print(f\"batch {batch}/{batches}\")\u001b[0m\u001b[0;34m\u001b[0m\u001b[0;34m\u001b[0m\u001b[0;34m\u001b[0m\u001b[0m\n\u001b[1;32m      9\u001b[0m     \u001b[0;32mfor\u001b[0m \u001b[0mc\u001b[0m \u001b[0;32min\u001b[0m \u001b[0mlist\u001b[0m\u001b[0;34m(\u001b[0m\u001b[0mcoords\u001b[0m\u001b[0;34m[\u001b[0m\u001b[0mbatch\u001b[0m\u001b[0;34m*\u001b[0m\u001b[0mbs\u001b[0m\u001b[0;34m:\u001b[0m\u001b[0;34m(\u001b[0m\u001b[0mbatch\u001b[0m\u001b[0;34m+\u001b[0m\u001b[0;36m1\u001b[0m\u001b[0;34m)\u001b[0m\u001b[0;34m*\u001b[0m\u001b[0mbs\u001b[0m\u001b[0;34m]\u001b[0m\u001b[0;34m)\u001b[0m\u001b[0;34m:\u001b[0m\u001b[0;34m\u001b[0m\u001b[0;34m\u001b[0m\u001b[0m\n\u001b[0;32m---> 10\u001b[0;31m         \u001b[0;32mif\u001b[0m \u001b[0mc\u001b[0m\u001b[0;34m[\u001b[0m\u001b[0;36m0\u001b[0m\u001b[0;34m]\u001b[0m \u001b[0;34m>\u001b[0m \u001b[0mbounds\u001b[0m\u001b[0;34m[\u001b[0m\u001b[0;36m0\u001b[0m\u001b[0;34m]\u001b[0m \u001b[0;32mand\u001b[0m \u001b[0mc\u001b[0m\u001b[0;34m[\u001b[0m\u001b[0;36m0\u001b[0m\u001b[0;34m]\u001b[0m \u001b[0;34m<\u001b[0m\u001b[0mbounds\u001b[0m\u001b[0;34m[\u001b[0m\u001b[0;36m2\u001b[0m\u001b[0;34m]\u001b[0m \u001b[0;32mand\u001b[0m \u001b[0mc\u001b[0m\u001b[0;34m[\u001b[0m\u001b[0;36m1\u001b[0m\u001b[0;34m]\u001b[0m \u001b[0;34m>\u001b[0m \u001b[0mbounds\u001b[0m\u001b[0;34m[\u001b[0m\u001b[0;36m1\u001b[0m\u001b[0;34m]\u001b[0m \u001b[0;32mand\u001b[0m \u001b[0mc\u001b[0m\u001b[0;34m[\u001b[0m\u001b[0;36m1\u001b[0m\u001b[0;34m]\u001b[0m \u001b[0;34m<\u001b[0m\u001b[0mbounds\u001b[0m\u001b[0;34m[\u001b[0m\u001b[0;36m3\u001b[0m\u001b[0;34m]\u001b[0m\u001b[0;34m:\u001b[0m\u001b[0;34m\u001b[0m\u001b[0;34m\u001b[0m\u001b[0m\n\u001b[0m\u001b[1;32m     11\u001b[0m             \u001b[0;31m#print(c[0], c[1])\u001b[0m\u001b[0;34m\u001b[0m\u001b[0;34m\u001b[0m\u001b[0;34m\u001b[0m\u001b[0m\n\u001b[1;32m     12\u001b[0m             \u001b[0;31m#coord_list.append(Point((np.asscalar(c[0]), np.asscalar(c[1]))))\u001b[0m\u001b[0;34m\u001b[0m\u001b[0;34m\u001b[0m\u001b[0;34m\u001b[0m\u001b[0m\n",
      "\u001b[0;31mKeyboardInterrupt\u001b[0m: "
     ]
    }
   ],
   "source": [
    "bs = 2048\n",
    "batches = int(len(coords)/bs)\n",
    "print(f\"batches: {batches}\")\n",
    "#batches = 1\n",
    "coord_list = []\n",
    "csv = \"lon;lat\\n\"\n",
    "for batch in tqdm.tqdm(range(batches)):\n",
    "    #print(f\"batch {batch}/{batches}\")\n",
    "    for c in list(coords[batch*bs:(batch+1)*bs]):\n",
    "        if c[0] > bounds[0] and c[0] <bounds[2] and c[1] > bounds[1] and c[1] <bounds[3]:\n",
    "            #print(c[0], c[1])            \n",
    "            #coord_list.append(Point((np.asscalar(c[0]), np.asscalar(c[1]))))\n",
    "            csv += str(c[0])+\";\"+str(c[1])+\"\\n\"\n",
    "with open('twitter_new_york.csv', 'w') as f:\n",
    "    f.write(csv)"
   ]
  },
  {
   "cell_type": "code",
   "execution_count": 4,
   "metadata": {},
   "outputs": [
    {
     "name": "stdout",
     "output_type": "stream",
     "text": [
      "number of coords: 0\n"
     ]
    },
    {
     "ename": "NameError",
     "evalue": "name 'geojson' is not defined",
     "output_type": "error",
     "traceback": [
      "\u001b[0;31m---------------------------------------------------------------------------\u001b[0m",
      "\u001b[0;31mNameError\u001b[0m                                 Traceback (most recent call last)",
      "\u001b[0;32m<ipython-input-4-fa837f610a72>\u001b[0m in \u001b[0;36m<module>\u001b[0;34m\u001b[0m\n\u001b[1;32m      2\u001b[0m \u001b[0mprint\u001b[0m\u001b[0;34m(\u001b[0m\u001b[0;34mf\"number of coords: {len(coord_list)}\"\u001b[0m\u001b[0;34m)\u001b[0m\u001b[0;34m\u001b[0m\u001b[0;34m\u001b[0m\u001b[0m\n\u001b[1;32m      3\u001b[0m \u001b[0;34m\u001b[0m\u001b[0m\n\u001b[0;32m----> 4\u001b[0;31m \u001b[0mdump\u001b[0m \u001b[0;34m=\u001b[0m \u001b[0mgeojson\u001b[0m\u001b[0;34m.\u001b[0m\u001b[0mdumps\u001b[0m\u001b[0;34m(\u001b[0m\u001b[0mgeo_collection\u001b[0m\u001b[0;34m,\u001b[0m \u001b[0msort_keys\u001b[0m\u001b[0;34m=\u001b[0m\u001b[0;32mTrue\u001b[0m\u001b[0;34m)\u001b[0m\u001b[0;34m\u001b[0m\u001b[0;34m\u001b[0m\u001b[0m\n\u001b[0m\u001b[1;32m      5\u001b[0m \u001b[0;32mwith\u001b[0m \u001b[0mopen\u001b[0m\u001b[0;34m(\u001b[0m\u001b[0;34m'twitter_new_york.geojson'\u001b[0m\u001b[0;34m,\u001b[0m \u001b[0;34m'w'\u001b[0m\u001b[0;34m)\u001b[0m \u001b[0;32mas\u001b[0m \u001b[0mf\u001b[0m\u001b[0;34m:\u001b[0m\u001b[0;34m\u001b[0m\u001b[0;34m\u001b[0m\u001b[0m\n\u001b[1;32m      6\u001b[0m     \u001b[0mgeojson\u001b[0m\u001b[0;34m.\u001b[0m\u001b[0mdump\u001b[0m\u001b[0;34m(\u001b[0m\u001b[0mgeo_collection\u001b[0m\u001b[0;34m,\u001b[0m  \u001b[0mf\u001b[0m\u001b[0;34m,\u001b[0m \u001b[0msort_keys\u001b[0m\u001b[0;34m=\u001b[0m\u001b[0;32mTrue\u001b[0m\u001b[0;34m,\u001b[0m\u001b[0;34m)\u001b[0m\u001b[0;34m\u001b[0m\u001b[0;34m\u001b[0m\u001b[0m\n",
      "\u001b[0;31mNameError\u001b[0m: name 'geojson' is not defined"
     ]
    }
   ],
   "source": [
    "geo_collection = GeometryCollection(coord_list)\n",
    "print(f\"number of coords: {len(coord_list)}\")\n",
    "\n",
    "dump = geojson.dumps(geo_collection, sort_keys=True)\n",
    "with open('twitter_new_york.geojson', 'w') as f:\n",
    "    geojson.dump(geo_collection,  f, sort_keys=True,)"
   ]
  },
  {
   "cell_type": "code",
   "execution_count": 5,
   "metadata": {},
   "outputs": [],
   "source": [
    "import pandas as pd"
   ]
  },
  {
   "cell_type": "code",
   "execution_count": 6,
   "metadata": {},
   "outputs": [
    {
     "data": {
      "text/html": [
       "<div>\n",
       "<style scoped>\n",
       "    .dataframe tbody tr th:only-of-type {\n",
       "        vertical-align: middle;\n",
       "    }\n",
       "\n",
       "    .dataframe tbody tr th {\n",
       "        vertical-align: top;\n",
       "    }\n",
       "\n",
       "    .dataframe thead th {\n",
       "        text-align: right;\n",
       "    }\n",
       "</style>\n",
       "<table border=\"1\" class=\"dataframe\">\n",
       "  <thead>\n",
       "    <tr style=\"text-align: right;\">\n",
       "      <th></th>\n",
       "      <th>lon</th>\n",
       "      <th>lat</th>\n",
       "    </tr>\n",
       "  </thead>\n",
       "  <tbody>\n",
       "    <tr>\n",
       "      <th>0</th>\n",
       "      <td>-74.00640</td>\n",
       "      <td>40.714200</td>\n",
       "    </tr>\n",
       "    <tr>\n",
       "      <th>1</th>\n",
       "      <td>-74.06773</td>\n",
       "      <td>40.739060</td>\n",
       "    </tr>\n",
       "    <tr>\n",
       "      <th>2</th>\n",
       "      <td>-74.06773</td>\n",
       "      <td>40.739060</td>\n",
       "    </tr>\n",
       "    <tr>\n",
       "      <th>3</th>\n",
       "      <td>-73.84509</td>\n",
       "      <td>40.746350</td>\n",
       "    </tr>\n",
       "    <tr>\n",
       "      <th>4</th>\n",
       "      <td>-74.00088</td>\n",
       "      <td>40.731377</td>\n",
       "    </tr>\n",
       "  </tbody>\n",
       "</table>\n",
       "</div>"
      ],
      "text/plain": [
       "        lon        lat\n",
       "0 -74.00640  40.714200\n",
       "1 -74.06773  40.739060\n",
       "2 -74.06773  40.739060\n",
       "3 -73.84509  40.746350\n",
       "4 -74.00088  40.731377"
      ]
     },
     "execution_count": 6,
     "metadata": {},
     "output_type": "execute_result"
    }
   ],
   "source": [
    "ny = pd.read_csv(\"twitter_new_york.csv\",sep=';', names=['lon', 'lat'], usecols=['lat', 'lon'], header=0)\n",
    "ny.head()"
   ]
  },
  {
   "cell_type": "code",
   "execution_count": 7,
   "metadata": {},
   "outputs": [
    {
     "data": {
      "text/html": [
       "<div>\n",
       "<style scoped>\n",
       "    .dataframe tbody tr th:only-of-type {\n",
       "        vertical-align: middle;\n",
       "    }\n",
       "\n",
       "    .dataframe tbody tr th {\n",
       "        vertical-align: top;\n",
       "    }\n",
       "\n",
       "    .dataframe thead th {\n",
       "        text-align: right;\n",
       "    }\n",
       "</style>\n",
       "<table border=\"1\" class=\"dataframe\">\n",
       "  <thead>\n",
       "    <tr style=\"text-align: right;\">\n",
       "      <th></th>\n",
       "      <th>lon</th>\n",
       "      <th>lat</th>\n",
       "      <th>blon</th>\n",
       "      <th>blat</th>\n",
       "    </tr>\n",
       "  </thead>\n",
       "  <tbody>\n",
       "    <tr>\n",
       "      <th>0</th>\n",
       "      <td>-74.00640</td>\n",
       "      <td>40.714200</td>\n",
       "      <td>0.294427</td>\n",
       "      <td>0.726190</td>\n",
       "    </tr>\n",
       "    <tr>\n",
       "      <th>1</th>\n",
       "      <td>-74.06773</td>\n",
       "      <td>40.739060</td>\n",
       "      <td>0.294256</td>\n",
       "      <td>0.726328</td>\n",
       "    </tr>\n",
       "    <tr>\n",
       "      <th>2</th>\n",
       "      <td>-74.06773</td>\n",
       "      <td>40.739060</td>\n",
       "      <td>0.294256</td>\n",
       "      <td>0.726328</td>\n",
       "    </tr>\n",
       "    <tr>\n",
       "      <th>3</th>\n",
       "      <td>-73.84509</td>\n",
       "      <td>40.746350</td>\n",
       "      <td>0.294875</td>\n",
       "      <td>0.726369</td>\n",
       "    </tr>\n",
       "    <tr>\n",
       "      <th>4</th>\n",
       "      <td>-74.00088</td>\n",
       "      <td>40.731377</td>\n",
       "      <td>0.294442</td>\n",
       "      <td>0.726285</td>\n",
       "    </tr>\n",
       "  </tbody>\n",
       "</table>\n",
       "</div>"
      ],
      "text/plain": [
       "        lon        lat      blon      blat\n",
       "0 -74.00640  40.714200  0.294427  0.726190\n",
       "1 -74.06773  40.739060  0.294256  0.726328\n",
       "2 -74.06773  40.739060  0.294256  0.726328\n",
       "3 -73.84509  40.746350  0.294875  0.726369\n",
       "4 -74.00088  40.731377  0.294442  0.726285"
      ]
     },
     "execution_count": 7,
     "metadata": {},
     "output_type": "execute_result"
    }
   ],
   "source": [
    "ny['blon']=(ny[\"lon\"]+180)/360\n",
    "ny['blat']=(ny[\"lat\"]+90)/180\n",
    "ny.head()"
   ]
  },
  {
   "cell_type": "code",
   "execution_count": 8,
   "metadata": {},
   "outputs": [
    {
     "name": "stdout",
     "output_type": "stream",
     "text": [
      "2048 1024\n",
      "4096 2048\n",
      "8192 4096\n"
     ]
    },
    {
     "ename": "KeyboardInterrupt",
     "evalue": "",
     "output_type": "error",
     "traceback": [
      "\u001b[0;31m---------------------------------------------------------------------------\u001b[0m",
      "\u001b[0;31mKeyboardInterrupt\u001b[0m                         Traceback (most recent call last)",
      "\u001b[0;32m<ipython-input-8-c896c3c302c7>\u001b[0m in \u001b[0;36m<module>\u001b[0;34m\u001b[0m\n\u001b[1;32m      7\u001b[0m     \u001b[0mny2\u001b[0m\u001b[0;34m[\u001b[0m\u001b[0;34m'lat'\u001b[0m\u001b[0;34m]\u001b[0m \u001b[0;34m=\u001b[0m \u001b[0;34m(\u001b[0m\u001b[0mnp\u001b[0m\u001b[0;34m.\u001b[0m\u001b[0mfloor\u001b[0m\u001b[0;34m(\u001b[0m\u001b[0mny2\u001b[0m\u001b[0;34m[\u001b[0m\u001b[0;34m'lat'\u001b[0m\u001b[0;34m]\u001b[0m\u001b[0;34m*\u001b[0m\u001b[0mr\u001b[0m\u001b[0;34m)\u001b[0m\u001b[0;34m/\u001b[0m\u001b[0mr\u001b[0m \u001b[0;34m*\u001b[0m\u001b[0;36m180\u001b[0m\u001b[0;34m)\u001b[0m\u001b[0;34m-\u001b[0m\u001b[0;36m90\u001b[0m\u001b[0;34m\u001b[0m\u001b[0;34m\u001b[0m\u001b[0m\n\u001b[1;32m      8\u001b[0m     \u001b[0mny2\u001b[0m\u001b[0;34m[\u001b[0m\u001b[0;34m'lon'\u001b[0m\u001b[0;34m]\u001b[0m \u001b[0;34m=\u001b[0m \u001b[0;34m(\u001b[0m\u001b[0mnp\u001b[0m\u001b[0;34m.\u001b[0m\u001b[0mfloor\u001b[0m\u001b[0;34m(\u001b[0m\u001b[0mny2\u001b[0m\u001b[0;34m[\u001b[0m\u001b[0;34m'lon'\u001b[0m\u001b[0;34m]\u001b[0m\u001b[0;34m*\u001b[0m\u001b[0mr\u001b[0m\u001b[0;34m)\u001b[0m\u001b[0;34m/\u001b[0m\u001b[0mr\u001b[0m  \u001b[0;34m*\u001b[0m\u001b[0;36m360\u001b[0m\u001b[0;34m)\u001b[0m\u001b[0;34m-\u001b[0m\u001b[0;36m180\u001b[0m\u001b[0;34m\u001b[0m\u001b[0;34m\u001b[0m\u001b[0m\n\u001b[0;32m----> 9\u001b[0;31m     \u001b[0mny2\u001b[0m\u001b[0;34m.\u001b[0m\u001b[0mto_csv\u001b[0m\u001b[0;34m(\u001b[0m\u001b[0;34mf'twitter_new_york_res_{r}x{r}.csv'\u001b[0m\u001b[0;34m,\u001b[0m \u001b[0mindex\u001b[0m\u001b[0;34m=\u001b[0m\u001b[0;32mFalse\u001b[0m\u001b[0;34m)\u001b[0m\u001b[0;34m\u001b[0m\u001b[0;34m\u001b[0m\u001b[0m\n\u001b[0m",
      "\u001b[0;32m/usr/local/lib/python3.6/dist-packages/pandas/core/generic.py\u001b[0m in \u001b[0;36mto_csv\u001b[0;34m(self, path_or_buf, sep, na_rep, float_format, columns, header, index, index_label, mode, encoding, compression, quoting, quotechar, line_terminator, chunksize, date_format, doublequote, escapechar, decimal, errors)\u001b[0m\n\u001b[1;32m   3168\u001b[0m             \u001b[0mdecimal\u001b[0m\u001b[0;34m=\u001b[0m\u001b[0mdecimal\u001b[0m\u001b[0;34m,\u001b[0m\u001b[0;34m\u001b[0m\u001b[0;34m\u001b[0m\u001b[0m\n\u001b[1;32m   3169\u001b[0m         )\n\u001b[0;32m-> 3170\u001b[0;31m         \u001b[0mformatter\u001b[0m\u001b[0;34m.\u001b[0m\u001b[0msave\u001b[0m\u001b[0;34m(\u001b[0m\u001b[0;34m)\u001b[0m\u001b[0;34m\u001b[0m\u001b[0;34m\u001b[0m\u001b[0m\n\u001b[0m\u001b[1;32m   3171\u001b[0m \u001b[0;34m\u001b[0m\u001b[0m\n\u001b[1;32m   3172\u001b[0m         \u001b[0;32mif\u001b[0m \u001b[0mpath_or_buf\u001b[0m \u001b[0;32mis\u001b[0m \u001b[0;32mNone\u001b[0m\u001b[0;34m:\u001b[0m\u001b[0;34m\u001b[0m\u001b[0;34m\u001b[0m\u001b[0m\n",
      "\u001b[0;32m/usr/local/lib/python3.6/dist-packages/pandas/io/formats/csvs.py\u001b[0m in \u001b[0;36msave\u001b[0;34m(self)\u001b[0m\n\u001b[1;32m    204\u001b[0m             )\n\u001b[1;32m    205\u001b[0m \u001b[0;34m\u001b[0m\u001b[0m\n\u001b[0;32m--> 206\u001b[0;31m             \u001b[0mself\u001b[0m\u001b[0;34m.\u001b[0m\u001b[0m_save\u001b[0m\u001b[0;34m(\u001b[0m\u001b[0;34m)\u001b[0m\u001b[0;34m\u001b[0m\u001b[0;34m\u001b[0m\u001b[0m\n\u001b[0m\u001b[1;32m    207\u001b[0m \u001b[0;34m\u001b[0m\u001b[0m\n\u001b[1;32m    208\u001b[0m         \u001b[0;32mfinally\u001b[0m\u001b[0;34m:\u001b[0m\u001b[0;34m\u001b[0m\u001b[0;34m\u001b[0m\u001b[0m\n",
      "\u001b[0;32m/usr/local/lib/python3.6/dist-packages/pandas/io/formats/csvs.py\u001b[0m in \u001b[0;36m_save\u001b[0;34m(self)\u001b[0m\n\u001b[1;32m    326\u001b[0m                 \u001b[0;32mbreak\u001b[0m\u001b[0;34m\u001b[0m\u001b[0;34m\u001b[0m\u001b[0m\n\u001b[1;32m    327\u001b[0m \u001b[0;34m\u001b[0m\u001b[0m\n\u001b[0;32m--> 328\u001b[0;31m             \u001b[0mself\u001b[0m\u001b[0;34m.\u001b[0m\u001b[0m_save_chunk\u001b[0m\u001b[0;34m(\u001b[0m\u001b[0mstart_i\u001b[0m\u001b[0;34m,\u001b[0m \u001b[0mend_i\u001b[0m\u001b[0;34m)\u001b[0m\u001b[0;34m\u001b[0m\u001b[0;34m\u001b[0m\u001b[0m\n\u001b[0m\u001b[1;32m    329\u001b[0m \u001b[0;34m\u001b[0m\u001b[0m\n\u001b[1;32m    330\u001b[0m     \u001b[0;32mdef\u001b[0m \u001b[0m_save_chunk\u001b[0m\u001b[0;34m(\u001b[0m\u001b[0mself\u001b[0m\u001b[0;34m,\u001b[0m \u001b[0mstart_i\u001b[0m\u001b[0;34m:\u001b[0m \u001b[0mint\u001b[0m\u001b[0;34m,\u001b[0m \u001b[0mend_i\u001b[0m\u001b[0;34m:\u001b[0m \u001b[0mint\u001b[0m\u001b[0;34m)\u001b[0m \u001b[0;34m->\u001b[0m \u001b[0;32mNone\u001b[0m\u001b[0;34m:\u001b[0m\u001b[0;34m\u001b[0m\u001b[0;34m\u001b[0m\u001b[0m\n",
      "\u001b[0;32m/usr/local/lib/python3.6/dist-packages/pandas/io/formats/csvs.py\u001b[0m in \u001b[0;36m_save_chunk\u001b[0;34m(self, start_i, end_i)\u001b[0m\n\u001b[1;32m    357\u001b[0m             \u001b[0mdecimal\u001b[0m\u001b[0;34m=\u001b[0m\u001b[0mself\u001b[0m\u001b[0;34m.\u001b[0m\u001b[0mdecimal\u001b[0m\u001b[0;34m,\u001b[0m\u001b[0;34m\u001b[0m\u001b[0;34m\u001b[0m\u001b[0m\n\u001b[1;32m    358\u001b[0m             \u001b[0mdate_format\u001b[0m\u001b[0;34m=\u001b[0m\u001b[0mself\u001b[0m\u001b[0;34m.\u001b[0m\u001b[0mdate_format\u001b[0m\u001b[0;34m,\u001b[0m\u001b[0;34m\u001b[0m\u001b[0;34m\u001b[0m\u001b[0m\n\u001b[0;32m--> 359\u001b[0;31m             \u001b[0mquoting\u001b[0m\u001b[0;34m=\u001b[0m\u001b[0mself\u001b[0m\u001b[0;34m.\u001b[0m\u001b[0mquoting\u001b[0m\u001b[0;34m,\u001b[0m\u001b[0;34m\u001b[0m\u001b[0;34m\u001b[0m\u001b[0m\n\u001b[0m\u001b[1;32m    360\u001b[0m         )\n\u001b[1;32m    361\u001b[0m \u001b[0;34m\u001b[0m\u001b[0m\n",
      "\u001b[0;32m/usr/local/lib/python3.6/dist-packages/pandas/core/indexes/base.py\u001b[0m in \u001b[0;36mto_native_types\u001b[0;34m(self, slicer, **kwargs)\u001b[0m\n\u001b[1;32m    980\u001b[0m         \u001b[0;32mif\u001b[0m \u001b[0mslicer\u001b[0m \u001b[0;32mis\u001b[0m \u001b[0;32mnot\u001b[0m \u001b[0;32mNone\u001b[0m\u001b[0;34m:\u001b[0m\u001b[0;34m\u001b[0m\u001b[0;34m\u001b[0m\u001b[0m\n\u001b[1;32m    981\u001b[0m             \u001b[0mvalues\u001b[0m \u001b[0;34m=\u001b[0m \u001b[0mvalues\u001b[0m\u001b[0;34m[\u001b[0m\u001b[0mslicer\u001b[0m\u001b[0;34m]\u001b[0m\u001b[0;34m\u001b[0m\u001b[0;34m\u001b[0m\u001b[0m\n\u001b[0;32m--> 982\u001b[0;31m         \u001b[0;32mreturn\u001b[0m \u001b[0mvalues\u001b[0m\u001b[0;34m.\u001b[0m\u001b[0m_format_native_types\u001b[0m\u001b[0;34m(\u001b[0m\u001b[0;34m**\u001b[0m\u001b[0mkwargs\u001b[0m\u001b[0;34m)\u001b[0m\u001b[0;34m\u001b[0m\u001b[0;34m\u001b[0m\u001b[0m\n\u001b[0m\u001b[1;32m    983\u001b[0m \u001b[0;34m\u001b[0m\u001b[0m\n\u001b[1;32m    984\u001b[0m     \u001b[0;32mdef\u001b[0m \u001b[0m_format_native_types\u001b[0m\u001b[0;34m(\u001b[0m\u001b[0mself\u001b[0m\u001b[0;34m,\u001b[0m \u001b[0mna_rep\u001b[0m\u001b[0;34m=\u001b[0m\u001b[0;34m\"\"\u001b[0m\u001b[0;34m,\u001b[0m \u001b[0mquoting\u001b[0m\u001b[0;34m=\u001b[0m\u001b[0;32mNone\u001b[0m\u001b[0;34m,\u001b[0m \u001b[0;34m**\u001b[0m\u001b[0mkwargs\u001b[0m\u001b[0;34m)\u001b[0m\u001b[0;34m:\u001b[0m\u001b[0;34m\u001b[0m\u001b[0;34m\u001b[0m\u001b[0m\n",
      "\u001b[0;32m/usr/local/lib/python3.6/dist-packages/pandas/core/indexes/base.py\u001b[0m in \u001b[0;36m_format_native_types\u001b[0;34m(self, na_rep, quoting, **kwargs)\u001b[0m\n\u001b[1;32m    988\u001b[0m         \u001b[0mmask\u001b[0m \u001b[0;34m=\u001b[0m \u001b[0misna\u001b[0m\u001b[0;34m(\u001b[0m\u001b[0mself\u001b[0m\u001b[0;34m)\u001b[0m\u001b[0;34m\u001b[0m\u001b[0;34m\u001b[0m\u001b[0m\n\u001b[1;32m    989\u001b[0m         \u001b[0;32mif\u001b[0m \u001b[0;32mnot\u001b[0m \u001b[0mself\u001b[0m\u001b[0;34m.\u001b[0m\u001b[0mis_object\u001b[0m\u001b[0;34m(\u001b[0m\u001b[0;34m)\u001b[0m \u001b[0;32mand\u001b[0m \u001b[0;32mnot\u001b[0m \u001b[0mquoting\u001b[0m\u001b[0;34m:\u001b[0m\u001b[0;34m\u001b[0m\u001b[0;34m\u001b[0m\u001b[0m\n\u001b[0;32m--> 990\u001b[0;31m             \u001b[0mvalues\u001b[0m \u001b[0;34m=\u001b[0m \u001b[0mnp\u001b[0m\u001b[0;34m.\u001b[0m\u001b[0masarray\u001b[0m\u001b[0;34m(\u001b[0m\u001b[0mself\u001b[0m\u001b[0;34m)\u001b[0m\u001b[0;34m.\u001b[0m\u001b[0mastype\u001b[0m\u001b[0;34m(\u001b[0m\u001b[0mstr\u001b[0m\u001b[0;34m)\u001b[0m\u001b[0;34m\u001b[0m\u001b[0;34m\u001b[0m\u001b[0m\n\u001b[0m\u001b[1;32m    991\u001b[0m         \u001b[0;32melse\u001b[0m\u001b[0;34m:\u001b[0m\u001b[0;34m\u001b[0m\u001b[0;34m\u001b[0m\u001b[0m\n\u001b[1;32m    992\u001b[0m             \u001b[0mvalues\u001b[0m \u001b[0;34m=\u001b[0m \u001b[0mnp\u001b[0m\u001b[0;34m.\u001b[0m\u001b[0marray\u001b[0m\u001b[0;34m(\u001b[0m\u001b[0mself\u001b[0m\u001b[0;34m,\u001b[0m \u001b[0mdtype\u001b[0m\u001b[0;34m=\u001b[0m\u001b[0mobject\u001b[0m\u001b[0;34m,\u001b[0m \u001b[0mcopy\u001b[0m\u001b[0;34m=\u001b[0m\u001b[0;32mTrue\u001b[0m\u001b[0;34m)\u001b[0m\u001b[0;34m\u001b[0m\u001b[0;34m\u001b[0m\u001b[0m\n",
      "\u001b[0;31mKeyboardInterrupt\u001b[0m: "
     ]
    }
   ],
   "source": [
    "resolutions = [2048, 4096, 8192, 8192*2]\n",
    "\n",
    "for r in resolutions:\n",
    "    rh = int(r/2)\n",
    "    print(r, rh)\n",
    "    ny2=ny[['blat','blon']].rename({'blat':'lat','blon':'lon'}, axis=1)\n",
    "    ny2['lat'] = (np.floor(ny2['lat']*r)/r *180)-90\n",
    "    ny2['lon'] = (np.floor(ny2['lon']*r)/r  *360)-180\n",
    "    ny2.to_csv(f'twitter_new_york_res_{r}x{r}.csv', index=False)\n"
   ]
  },
  {
   "cell_type": "code",
   "execution_count": 3,
   "metadata": {},
   "outputs": [
    {
     "data": {
      "image/png": "[encoded data removed]",
      "text/plain": [
       "<Figure size 576x576 with 1 Axes>"
      ]
     },
     "metadata": {
      "needs_background": "light"
     },
     "output_type": "display_data"
    }
   ],
   "source": [
    "import numpy as np\n",
    "import math\n",
    "from matplotlib import pyplot as plt\n",
    "import matplotlib.backends.backend_pdf as pdf\n",
    "from mpl_toolkits.mplot3d import axes3d\n",
    "figsize = (8,8)\n",
    "def save_figs(fn):\n",
    "    print(f\"-->  Saving all figures... {fn}\")\n",
    "    out_pdf = pdf.PdfPages(fn)\n",
    "    for fig in tqdm.tqdm(range(1, plt.gcf().number+1)):\n",
    "        out_pdf.savefig( fig )\n",
    "    out_pdf.close()\n",
    "    plt.close(\"all\")\n",
    "    \n",
    "data = np.random.normal(100, 1, 5000) \n",
    "\n",
    "\n",
    "\n",
    "def plot_hist(data, title=\"title\", xlab=\"x\", ylab=\"y\", bins=20, log=False, xlim_min=None, xlim_max=None):\n",
    "    fig = plt.figure(figsize=figsize)\n",
    "    ax = fig.add_subplot(111)\n",
    "    ax.set_yscale('log')\n",
    "    bins = np.linspace(math.ceil(min(data)), \n",
    "                       math.floor(max(data)),\n",
    "                       bins) # fixed number of bins\n",
    "    xlim = [min(data)-5, max(data)+5]\n",
    "    if  xlim_min != None:\n",
    "        xlim[0] = xlim_min\n",
    "    if  xlim_max != None:\n",
    "        xlim[1] = xlim_max\n",
    "    \n",
    "    plt.xlim(xlim)\n",
    "\n",
    "    if(log):\n",
    "        plt.hist(np.log10(data), bins=bins, alpha=0.5)\n",
    "        \n",
    "    else:\n",
    "        plt.hist(data, bins=bins, alpha=0.5)\n",
    "    plt.title(title)\n",
    "    plt.xlabel(xlab)\n",
    "    plt.ylabel(ylab)\n",
    "\n",
    "    #plt.show()\n",
    "    \n",
    "plot_hist(data, bins=20, xlim_min = 97, xlim_max = 103)\n",
    "plt.show()"
   ]
  },
  {
   "cell_type": "code",
   "execution_count": 4,
   "metadata": {},
   "outputs": [
    {
     "name": "stdout",
     "output_type": "stream",
     "text": [
      "20 ['0', '5', '10', '15', '20', '25', '30', '35', '40', '45', '50', '55', '60', '65', '70', '75', '80', '85', '90', '95']\n"
     ]
    },
    {
     "data": {
      "image/png": "[encoded data removed]",
      "text/plain": [
       "<Figure size 576x576 with 1 Axes>"
      ]
     },
     "metadata": {
      "needs_background": "light"
     },
     "output_type": "display_data"
    }
   ],
   "source": [
    "def plot_percentiles(data, title=\"percentiles\", size=10):\n",
    "    q = np.percentile(list(data), np.arange(0,100,size))\n",
    "    plt.figure(figsize=figsize)\n",
    "    names = [str(x) for x in list(np.arange(0,100,size))]\n",
    "    mx = np.max(q)\n",
    "    \n",
    "    plt.axhline(y = 255, color = 'r', linestyle = ':', label = \"8 bit\")\n",
    "    if(mx >= 65536):\n",
    "        plt.axhline(y = 65536, color = 'r', linestyle = '--', label = \"16 bit\")\n",
    "    if(mx >= pow(2,24)):    \n",
    "        plt.axhline(y = pow(2,24), color = 'r', linestyle = '-', label = \"24 bit\")\n",
    "    \n",
    "    if(mx >= pow(2,32)):    \n",
    "        plt.axhline(y = pow(2,32), color = 'r', linestyle = '-.', label = \"32 bit\")\n",
    "    \n",
    "    print(len(names),names)\n",
    "    plt.bar(names,list(q))\n",
    "    plt.grid()\n",
    "    plt.title(title)\n",
    "    plt.legend( loc = 'upper left')\n",
    "    #plt.show()\n",
    "\n",
    "plot_percentiles(data, size=5)\n",
    "plt.show()"
   ]
  },
  {
   "cell_type": "code",
   "execution_count": 22,
   "metadata": {
    "scrolled": true
   },
   "outputs": [
    {
     "name": "stdout",
     "output_type": "stream",
     "text": [
      "batches: 48828\n",
      "make rmap\n"
     ]
    },
    {
     "name": "stderr",
     "output_type": "stream",
     "text": [
      "100%|██████████| 48828/48828 [03:12<00:00, 254.29it/s]\n"
     ]
    },
    {
     "name": "stdout",
     "output_type": "stream",
     "text": [
      "plot start\n",
      "plot end\n",
      "batches: 48828\n",
      "make rmap\n"
     ]
    },
    {
     "name": "stderr",
     "output_type": "stream",
     "text": [
      "100%|██████████| 48828/48828 [03:15<00:00, 249.14it/s]"
     ]
    },
    {
     "name": "stdout",
     "output_type": "stream",
     "text": [
      "plot start\n",
      "plot end\n"
     ]
    },
    {
     "name": "stderr",
     "output_type": "stream",
     "text": [
      "\n"
     ]
    }
   ],
   "source": [
    "hf = h5py.File(\"/tf/pointclouds_2d/data/twitter_200mio_coords.h5\",\"r\")\n",
    "datasets = [(\"asia_200mio\",\"/tf/pointclouds_2d/data/asia_200mio_coords.h5\"),(\"twitter_200mio\", \"/tf/pointclouds_2d/data/twitter_200mio_coords.h5\")]\n",
    "\n",
    "resolutions = [8192]\n",
    "m = {}\n",
    "for ds, dsfn in datasets:\n",
    "    hf = h5py.File(dsfn,\"r\")\n",
    "    coords = hf['coords'][:];\n",
    "\n",
    "    len(coords)\n",
    "\n",
    "    bs = 4096\n",
    "    batches = int(len(coords)/bs)\n",
    "    print(f\"batches: {batches}\")\n",
    "    #batches = 10000\n",
    "    coord_list = []\n",
    "    csv = \"lon;lat\\n\"\n",
    "\n",
    "    for r in resolutions:\n",
    "        rmap = {}\n",
    "        print(\"make rmap\")\n",
    "        \"\"\"\n",
    "        for x in tqdm.tqdm(range(r)):\n",
    "            for y in range(r):\n",
    "                id = f'{x}.{y}'\n",
    "                rmap[id] = 0\n",
    "                \"\"\"\n",
    "        for batch in tqdm.tqdm(range(batches)):\n",
    "            #print(f\"batch {batch}/{batches}\")\n",
    "            b = coords[batch*bs:(batch+1)*bs]\n",
    "            lat = b[:,1]\n",
    "            lon = b[:,0]\n",
    "            lat = list(np.floor((lat+90)/180*r))\n",
    "            lon = list(np.floor((lon+180)/360)*r)\n",
    "            for c in zip(lon, lat):\n",
    "                id = f'{int(c[0])}.{int(c[1])}'\n",
    "                #print(id)\n",
    "                if id in rmap:\n",
    "                    rmap[id] += 1\n",
    "                else:\n",
    "                    rmap[id] = 1\n",
    "        print(\"plot start\")\n",
    "        rv = list(rmap.values())\n",
    "        m[ds] = rv\n",
    "        #plot_hist(rv, bins=100, title=f\"Bin Sizes {ds} {r}x{r}\", xlab=\"Bin Size\", ylab=\"# of Bins\")\n",
    "        #print(\"...\")        \n",
    "        #plot_percentiles(rv, title=f\"Bin Size Percentiles {ds} {r}x{r}\", size=5)\n",
    "        print(\"plot end\")\n",
    "\n",
    "\n",
    "#save_figs(f'histograms_{ds}1.pdf')"
   ]
  },
  {
   "cell_type": "code",
   "execution_count": 23,
   "metadata": {},
   "outputs": [
    {
     "data": {
      "image/png": "[encoded data removed]",
      "text/plain": [
       "<Figure size 576x576 with 1 Axes>"
      ]
     },
     "metadata": {
      "needs_background": "light"
     },
     "output_type": "display_data"
    },
    {
     "name": "stdout",
     "output_type": "stream",
     "text": [
      "save_figs\n"
     ]
    }
   ],
   "source": [
    "\n",
    "k = [x[0] for x in datasets]\n",
    "nbins=100\n",
    "dmin = min(min(m[k[0]]), min(m[k[1]]))\n",
    "         \n",
    "dmax = max(max(m[k[0]]), max(m[k[0]]))\n",
    "         \n",
    "fig = plt.figure(figsize=figsize)\n",
    "ax = fig.add_subplot(111)\n",
    "ax.set_yscale('log')\n",
    "bins = np.linspace(math.ceil(dmin), \n",
    "                   math.floor(dmax),\n",
    "                   nbins) # fixed number of bins\n",
    "xlim = [dmin-5, dmax+5]\n",
    "\n",
    "plt.xlim(xlim)\n",
    "\n",
    "plt.hist(m[k[0]], bins=bins, alpha=0.45, label=k[0])\n",
    "plt.hist(m[k[1]], bins=bins, alpha=0.45, label=k[1])\n",
    "\n",
    "\n",
    "plt.title(\"Bin Sizes}\")\n",
    "plt.xlabel(\"Bin Size\")\n",
    "plt.ylabel(\"# of Bins\")\n",
    "\n",
    "\n",
    "plt.axvline(x = 255, color = 'r', linestyle = ':', label = \"8 bit\")\n",
    "if(dmax >= 65536):\n",
    "    plt.axvline(x = 65536, color = 'r', linestyle = '--', label = \"16 bit\")\n",
    "if(dmax >= pow(2,24)):    \n",
    "    plt.axvline(x = pow(2,24), color = 'r', linestyle = '-', label = \"24 bit\")\n",
    "\n",
    "if(dmax >= pow(2,32)):    \n",
    "    plt.axvline(x = pow(2,32), color = 'r', linestyle = '-.', label = \"32 bit\")\n",
    "        \n",
    "\n",
    "plt.legend( loc = 'upper right')\n",
    "plt.show()\n",
    "print(\"save_figs\")"
   ]
  },
  {
   "cell_type": "code",
   "execution_count": 25,
   "metadata": {},
   "outputs": [
    {
     "name": "stderr",
     "output_type": "stream",
     "text": [
      "/usr/local/lib/python3.6/dist-packages/ipykernel_launcher.py:16: UserWarning: Attempted to set non-positive left xlim on a log-scaled axis.\n",
      "Invalid limit will be ignored.\n",
      "  app.launch_new_instance()\n"
     ]
    },
    {
     "data": {
      "image/png": "[encoded data removed]",
      "text/plain": [
       "<Figure size 576x576 with 1 Axes>"
      ]
     },
     "metadata": {
      "needs_background": "light"
     },
     "output_type": "display_data"
    },
    {
     "name": "stdout",
     "output_type": "stream",
     "text": [
      "save_figs\n"
     ]
    }
   ],
   "source": [
    "\n",
    "k = [x[0] for x in datasets]\n",
    "nbins=100\n",
    "dmin = min(min(m[k[0]]), min(m[k[1]]))\n",
    "         \n",
    "dmax = max(max(m[k[0]]), max(m[k[1]]))\n",
    "         \n",
    "fig = plt.figure(figsize=figsize)\n",
    "ax = fig.add_subplot(111)\n",
    "ax.set_yscale('log')\n",
    "ax.set_xscale('log')\n",
    "bins = np.linspace(math.ceil(dmin), \n",
    "                   math.floor(dmax),\n",
    "                   nbins) # fixed number of bins\n",
    "xlim = [dmin-5, dmax+5]\n",
    "\n",
    "plt.xlim(xlim)\n",
    "\n",
    "plt.hist(m[k[0]], bins=bins, alpha=0.45, label=k[0])\n",
    "plt.hist(m[k[1]], bins=bins, alpha=0.45, label=k[1])\n",
    "\n",
    "\n",
    "plt.title(\"Bin Sizes}\")\n",
    "plt.xlabel(\"Bin Size\")\n",
    "plt.ylabel(\"# of Bins\")\n",
    "\n",
    "\n",
    "plt.axvline(x = 255, color = 'r', linestyle = ':', label = \"8 bit\")\n",
    "if(dmax >= 65536):\n",
    "    plt.axvline(x = 65536, color = 'r', linestyle = '--', label = \"16 bit\")\n",
    "#if(dmax >= pow(2,24)):    \n",
    "#    plt.axvline(x = pow(2,24), color = 'r', linestyle = '-', label = \"24 bit\")\n",
    "\n",
    "if(dmax >= pow(2,32)):    \n",
    "    plt.axvline(x = pow(2,32), color = 'r', linestyle = '-.', label = \"32 bit\")\n",
    "        \n",
    "\n",
    "plt.legend( loc = 'upper right')\n",
    "plt.show()\n",
    "print(\"save_figs\")"
   ]
  },
  {
   "cell_type": "code",
   "execution_count": 38,
   "metadata": {},
   "outputs": [
    {
     "name": "stdout",
     "output_type": "stream",
     "text": [
      "Materializing\n",
      "Raster Transform\n",
      "Counting\n",
      "Abundance\n",
      "Materializing\n",
      "Raster Transform\n",
      "Counting\n",
      "Abundance\n"
     ]
    }
   ],
   "source": [
    "x = {}\n",
    "m = {}\n",
    "for ds, dsfn in datasets:\n",
    "    hf = h5py.File(dsfn,\"r\")\n",
    "    coords = hf['coords'][:10_000_000];\n",
    "    print(\"Materializing\")\n",
    "    c = coords[:1_000_000]\n",
    "    print(\"Raster Transform\")\n",
    "    c = ((c + [180.0, 90.0])/ [360.0,180.0]*[r,r]).astype(np.int_)\n",
    "    print(\"Counting\")\n",
    "    x,c = np.unique(c,axis=0, return_counts=True)\n",
    "\n",
    "\n",
    "    #abundance = {count:str(item) for item,count in zip(x,c)}\n",
    "    #print(abundance)\n",
    "    print(\"Abundance\")\n",
    "    c = np.sort(c)\n",
    "    m[ds]= c\n",
    "    c= c[::-1]\n",
    "    np.savetxt(f\"{ds}-abundance.dat\",c)"
   ]
  },
  {
   "cell_type": "code",
   "execution_count": 43,
   "metadata": {},
   "outputs": [
    {
     "data": {
      "image/png": "[encoded data removed]",
      "text/plain": [
       "<Figure size 576x576 with 1 Axes>"
      ]
     },
     "metadata": {
      "needs_background": "light"
     },
     "output_type": "display_data"
    }
   ],
   "source": [
    "k = [x[0] for x in datasets]\n",
    "nbins=100\n",
    "dmin = min(min(m[k[0]]), min(m[k[1]]))\n",
    "         \n",
    "dmax = max(max(m[k[0]]), max(m[k[1]]))\n",
    "         \n",
    "fig = plt.figure(figsize=figsize)\n",
    "ax = fig.add_subplot(111)\n",
    "#ax.set_yscale('log')\n",
    "#ax.set_xscale('log')\n",
    "bins = np.linspace(math.ceil(dmin), \n",
    "                   math.floor(dmax),\n",
    "                   nbins) # fixed number of bins\n",
    "xlim = [dmin-5, dmax+5]\n",
    "\n",
    "plt.xlim(xlim)\n",
    "plt.bar(range(len(m[k[0]])),m[k[0]],  alpha=0.45, label=k[0])\n",
    "#plt.hist(m[k[0]], bins=bins, alpha=0.45, label=k[0])\n",
    "#plt.hist(m[k[1]], bins=bins, alpha=0.45, label=k[1])\n",
    "\n",
    "\n",
    "plt.title(\"Bin Sizes}\")\n",
    "plt.xlabel(\"Bin Size\")\n",
    "plt.ylabel(\"# of Bins\")\n",
    "\n",
    "\n",
    "plt.axvline(x = 255, color = 'r', linestyle = ':', label = \"8 bit\")\n",
    "if(dmax >= 65536):\n",
    "    plt.axvline(x = 65536, color = 'r', linestyle = '--', label = \"16 bit\")\n",
    "#if(dmax >= pow(2,24)):    \n",
    "#    plt.axvline(x = pow(2,24), color = 'r', linestyle = '-', label = \"24 bit\")\n",
    "\n",
    "if(dmax >= pow(2,32)):    \n",
    "    plt.axvline(x = pow(2,32), color = 'r', linestyle = '-.', label = \"32 bit\")\n",
    "        \n",
    "\n",
    "plt.legend( loc = 'upper right')\n",
    "plt.show()"
   ]
  },
  {
   "cell_type": "code",
   "execution_count": null,
   "metadata": {},
   "outputs": [],
   "source": []
  }
 ],
 "metadata": {
  "kernelspec": {
   "display_name": "Python 3",
   "language": "python",
   "name": "python3"
  },
  "language_info": {
   "codemirror_mode": {
    "name": "ipython",
    "version": 3
   },
   "file_extension": ".py",
   "mimetype": "text/x-python",
   "name": "python",
   "nbconvert_exporter": "python",
   "pygments_lexer": "ipython3",
   "version": "3.6.9"
  }
 },
 "nbformat": 4,
 "nbformat_minor": 2
}
