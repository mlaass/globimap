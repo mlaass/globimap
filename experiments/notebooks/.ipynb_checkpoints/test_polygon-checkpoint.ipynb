{
 "cells": [
  {
   "cell_type": "code",
   "execution_count": 1,
   "metadata": {},
   "outputs": [],
   "source": [
    "import json"
   ]
  },
  {
   "cell_type": "code",
   "execution_count": 2,
   "metadata": {},
   "outputs": [],
   "source": [
    "\n",
    "\n",
    "experiments_path = \"../\"\n",
    "\n",
    "def fc_to_string(k,cfg):\n",
    "    res = f\"k_{k}bits_\"\n",
    "    for layer in cfg:\n",
    "        res += str(layer[\"bits\"]) + \".\"\n",
    "    \n",
    "    res +=  \"logsize_\"\n",
    "    for layer in cfg:\n",
    "        res = res + str(layer[\"logsize\"]) + \".\"\n",
    "    \n",
    "    return res\n",
    "\n",
    "\n",
    "def bits_str(cfg):\n",
    "    res = \"b.\"\n",
    "    for layer in cfg:\n",
    "        res += str(layer[\"bits\"]) + \".\"\n",
    "    \n",
    "    return res\n",
    "\n",
    "def logsize_str(cfg):\n",
    "    res = \"sz.\"\n",
    "    for layer in cfg:\n",
    "        res = res + str(layer[\"logsize\"]) + \".\"\n",
    "    \n",
    "    return res\n",
    "  \n",
    "def load_configs(name):\n",
    "    with open(f'{experiments_path}config_{name}', 'r') as myfile:\n",
    "        data=myfile.read()\n",
    "        obj = json.loads(data)\n",
    "        return obj[\"config\"]  \n",
    "\n",
    "def load_exp(fn):\n",
    "    try:\n",
    "        with open(fn, 'r') as myfile:\n",
    "            data=myfile.read()\n",
    "            # print(data)\n",
    "            obj = json.loads(data)\n",
    "            return obj\n",
    "    except Exception as err:\n",
    "        print(err)\n",
    "        return None\n",
    "\n",
    "    \n",
    "polygon_sets = [\"tl_2017_us_zcta510\", \"Global_LSIB_Polygons_Detailed\"]\n",
    "datasets =[\"twitter_1mio_coords.h5\", \"twitter_10mio_coords.h5\"]"
   ]
  },
  {
   "cell_type": "code",
   "execution_count": 3,
   "metadata": {},
   "outputs": [],
   "source": [
    "k = 8;\n",
    "x = 0;\n",
    "width = 16 * 8192\n",
    "height = 16 * 8192;\n",
    "exp_name = \"test_polygons\";\n",
    "\n",
    "cfgs = load_configs(exp_name)"
   ]
  },
  {
   "cell_type": "code",
   "execution_count": 22,
   "metadata": {},
   "outputs": [
    {
     "name": "stdout",
     "output_type": "stream",
     "text": [
      "9 24\n",
      "{'b.1.8.16.': 0, 'b.1.8.32.': 1, 'b.1.8.64.': 2, 'b.1.16.32.': 3, 'b.1.16.64.': 4, 'b.1.32.64.': 5, 'b.8.16.32.': 6, 'b.8.16.64.': 7, 'b.8.32.64.': 8}\n",
      "{'sz.16.20.24.': 0, 'sz.16.20.28.': 1, 'sz.16.24.20.': 2, 'sz.16.24.28.': 3, 'sz.16.28.20.': 4, 'sz.16.28.24.': 5, 'sz.20.16.24.': 6, 'sz.20.16.28.': 7, 'sz.20.24.16.': 8, 'sz.20.24.28.': 9, 'sz.20.28.16.': 10, 'sz.20.28.24.': 11, 'sz.24.16.20.': 12, 'sz.24.16.28.': 13, 'sz.24.20.16.': 14, 'sz.24.20.28.': 15, 'sz.24.28.16.': 16, 'sz.24.28.20.': 17, 'sz.28.16.20.': 18, 'sz.28.16.24.': 19, 'sz.28.20.16.': 20, 'sz.28.20.24.': 21, 'sz.28.24.16.': 22, 'sz.28.24.20.': 23}\n"
     ]
    },
    {
     "data": {
      "image/png": "[encoded data removed]",
      "text/plain": [
       "<Figure size 2160x792 with 1 Axes>"
      ]
     },
     "metadata": {
      "needs_background": "light"
     },
     "output_type": "display_data"
    }
   ],
   "source": [
    "import matplotlib.pyplot as plt\n",
    "import matplotlib.ticker as ticker\n",
    "import numpy as np\n",
    "import matplotlib.backends.backend_pdf as pdf\n",
    "import tqdm\n",
    "\n",
    "def save_figs(fn):\n",
    "    print(f\"-->  Saving all figures... {fn}\")\n",
    "    out_pdf = pdf.PdfPages(fn)\n",
    "    for fig in tqdm.tqdm(range(1, plt.gcf().number+1)):\n",
    "        out_pdf.savefig( fig )\n",
    "    out_pdf.close()\n",
    "    plt.close(\"all\")\n",
    "\n",
    "\n",
    "def plot_matrix(cm, title='Experiment matrix', cmap='Greys', xlabels=None, ylabels=None, cblabel=None):\n",
    "    fig = plt.figure(figsize=(len(xlabels)*1.25, 2+ len(ylabels)))\n",
    "    ax = fig.add_subplot(111)\n",
    "    # ax.xaxis.set_major_locator(ticker.MultipleLocator(2))\n",
    "    # ax.yaxis.set_major_locator(ticker.MultipleLocator(1))\n",
    "    cax = ax.matshow(cm,cmap=cmap)\n",
    "    plt.title(title)\n",
    "    ax.set_xticks(range(len(xlabels)))\n",
    "    ax.set_yticks(range(len(ylabels)))\n",
    "    cbar = fig.colorbar(cax)\n",
    "\n",
    "    if cblabel:\n",
    "        cbar.set_label(cblabel, rotation=270)\n",
    "    if xlabels:\n",
    "        ax.set_xticklabels(list(xlabels))\n",
    "    if ylabels:\n",
    "        ax.set_yticklabels(list(ylabels))\n",
    "    plt.xlabel('sizes')\n",
    "    plt.ylabel('bits')\n",
    "    #plt.show()\n",
    "\n",
    "\n",
    "def make_maps(size, cfgs):\n",
    "    bits_map = {}\n",
    "    logsize_map = {}\n",
    "\n",
    "    count_bits =0\n",
    "    count_sizes = 0\n",
    "    for c in cfgs :\n",
    "\n",
    "        if len(c) ==size:\n",
    "            if(not bits_str(c) in bits_map):\n",
    "                bits_map[bits_str(c)] = count_bits\n",
    "                count_bits+=1\n",
    "            if(not logsize_str(c) in logsize_map):\n",
    "                logsize_map[logsize_str(c)] = count_sizes\n",
    "                count_sizes+=1\n",
    "    return bits_map, logsize_map\n",
    "\n",
    "bits_map, logsize_map = make_maps(3,cfgs)\n",
    "\n",
    "print(len(bits_map), len(logsize_map))\n",
    "print(bits_map)\n",
    "print(logsize_map)\n",
    "a = np.random.rand(len(bits_map), len(logsize_map))\n",
    "plot_matrix(a, ylabels=bits_map.keys(), xlabels=logsize_map.keys())\n"
   ]
  },
  {
   "cell_type": "code",
   "execution_count": 23,
   "metadata": {},
   "outputs": [
    {
     "name": "stdout",
     "output_type": "stream",
     "text": [
      "-->  Saving all figures... polygons_test_matrices.pdf\n"
     ]
    },
    {
     "name": "stderr",
     "output_type": "stream",
     "text": [
      "100%|██████████| 12/12 [00:00<00:00, 20.25it/s]\n"
     ]
    }
   ],
   "source": [
    "def make_matrices(size, cfgs):\n",
    "    bits_map, logsize_map = make_maps(size,cfgs)\n",
    "    matrices= {}\n",
    "    matrix_indices = [\"err_mean_pc\"]\n",
    "    for shapef in polygon_sets:\n",
    "        matrices[shapef] = {}\n",
    "        for  ds in datasets :\n",
    "            matrices[shapef][ds] = {}\n",
    "            for mi in matrix_indices:\n",
    "                matrices[shapef][ds][mi] = np.zeros((len(bits_map),(len(logsize_map))))-1\n",
    "\n",
    "\n",
    "    x=0\n",
    "    for c in cfgs :\n",
    "        # print(fc_to_string(k,c))\n",
    "        y = 0;\n",
    "        for shapef in polygon_sets:\n",
    "            for  ds in datasets :\n",
    "                fn = experiments_path + exp_name + \"/\" + exp_name + f'.w{width}h{height}.{x:04d}.{y}-' + fc_to_string(k,c) \\\n",
    "                + ds + \".\" + shapef + \".json\"\n",
    "                # print(fn)\n",
    "                data = load_exp(fn)\n",
    "                bits = bits_str(c)\n",
    "                sz = logsize_str(c)\n",
    "                if data and bits in bits_map and  sz in logsize_map:\n",
    "                    for mi in matrix_indices:\n",
    "                        matrices[shapef][ds][mi][ bits_map[bits],logsize_map[sz]] = data[mi]\n",
    "            y+=1\n",
    "        x+=1\n",
    "\n",
    "    for shapef in polygon_sets:\n",
    "        for  ds in datasets :\n",
    "            for mi in matrix_indices:   \n",
    "                plot_matrix( matrices[shapef][ds][mi] ,title=f'{ds} - {shapef}',ylabels=bits_map.keys(), xlabels=logsize_map.keys())             \n",
    "\n",
    "make_matrices(1, cfgs)   \n",
    "make_matrices(2, cfgs)              \n",
    "make_matrices(3, cfgs)              \n",
    "\n",
    "\n",
    "save_figs(\"polygons_test_matrices.pdf\")"
   ]
  },
  {
   "cell_type": "code",
   "execution_count": null,
   "metadata": {},
   "outputs": [],
   "source": []
  },
  {
   "cell_type": "code",
   "execution_count": null,
   "metadata": {},
   "outputs": [],
   "source": []
  }
 ],
 "metadata": {
  "kernelspec": {
   "display_name": "Python 3",
   "language": "python",
   "name": "python3"
  },
  "language_info": {
   "codemirror_mode": {
    "name": "ipython",
    "version": 3
   },
   "file_extension": ".py",
   "mimetype": "text/x-python",
   "name": "python",
   "nbconvert_exporter": "python",
   "pygments_lexer": "ipython3",
   "version": "3.6.9"
  }
 },
 "nbformat": 4,
 "nbformat_minor": 2
}
