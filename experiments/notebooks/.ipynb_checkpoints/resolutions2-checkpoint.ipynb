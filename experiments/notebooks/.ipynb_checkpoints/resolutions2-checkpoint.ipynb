{
 "cells": [
  {
   "cell_type": "code",
   "execution_count": 2,
   "metadata": {},
   "outputs": [
    {
     "name": "stdout",
     "output_type": "stream",
     "text": [
      "Requirement already satisfied: geojson in /usr/local/lib/python3.6/dist-packages (2.5.0)\n",
      "Requirement already satisfied: h5py in /usr/local/lib/python3.6/dist-packages (2.10.0)\n",
      "Requirement already satisfied: pandas in /usr/local/lib/python3.6/dist-packages (1.1.5)\n",
      "Requirement already satisfied: tqdm in /usr/local/lib/python3.6/dist-packages (4.62.3)\n",
      "Requirement already satisfied: six in /usr/local/lib/python3.6/dist-packages (from h5py) (1.15.0)\n",
      "Requirement already satisfied: numpy>=1.7 in /root/.local/lib/python3.6/site-packages (from h5py) (1.19.5)\n",
      "Requirement already satisfied: pytz>=2017.2 in /usr/local/lib/python3.6/dist-packages (from pandas) (2021.3)\n",
      "Requirement already satisfied: python-dateutil>=2.7.3 in /usr/local/lib/python3.6/dist-packages (from pandas) (2.8.1)\n",
      "\u001b[33mWARNING: You are using pip version 20.2.3; however, version 21.3.1 is available.\n",
      "You should consider upgrading via the '/usr/bin/python3 -m pip install --upgrade pip' command.\u001b[0m\n"
     ]
    }
   ],
   "source": [
    "!pip install geojson h5py pandas tqdm"
   ]
  },
  {
   "cell_type": "code",
   "execution_count": 2,
   "metadata": {},
   "outputs": [],
   "source": [
    " from geojson import GeometryCollection, Point, LineString\n",
    "import h5py\n",
    "import tqdm\n",
    "import numpy as np\n"
   ]
  },
  {
   "cell_type": "code",
   "execution_count": 3,
   "metadata": {},
   "outputs": [
    {
     "data": {
      "image/png": "[encoded data removed]",
      "text/plain": [
       "<Figure size 576x576 with 1 Axes>"
      ]
     },
     "metadata": {
      "needs_background": "light"
     },
     "output_type": "display_data"
    }
   ],
   "source": [
    "import numpy as np\n",
    "import math\n",
    "from matplotlib import pyplot as plt\n",
    "import matplotlib.backends.backend_pdf as pdf\n",
    "from mpl_toolkits.mplot3d import axes3d\n",
    "figsize = (6,6)\n",
    "def save_figs(fn):\n",
    "    print(f\"-->  Saving all figures... {fn}\")\n",
    "    out_pdf = pdf.PdfPages(fn)\n",
    "    for fig in tqdm.tqdm(range(1, plt.gcf().number+1)):\n",
    "        out_pdf.savefig( fig )\n",
    "    out_pdf.close()\n",
    "    plt.close(\"all\")\n",
    "    \n",
    "data = np.random.normal(100, 1, 5000) \n",
    "\n",
    "\n",
    "\n",
    "def plot_hist(data, title=\"title\", xlab=\"x\", ylab=\"y\", bins=20, log=False, xlim_min=None, xlim_max=None):\n",
    "    fig = plt.figure(figsize=figsize)\n",
    "    ax = fig.add_subplot(111)\n",
    "    ax.set_yscale('log')\n",
    "    bins = np.linspace(math.ceil(min(data)), \n",
    "                       math.floor(max(data)),\n",
    "                       bins) # fixed number of bins\n",
    "    xlim = [min(data)-5, max(data)+5]\n",
    "    if  xlim_min != None:\n",
    "        xlim[0] = xlim_min\n",
    "    if  xlim_max != None:\n",
    "        xlim[1] = xlim_max\n",
    "    \n",
    "    plt.xlim(xlim)\n",
    "\n",
    "    if(log):\n",
    "        plt.hist(np.log10(data), bins=bins, alpha=0.5)\n",
    "        \n",
    "    else:\n",
    "        plt.hist(data, bins=bins, alpha=0.5)\n",
    "    plt.title(title)\n",
    "    plt.xlabel(xlab)\n",
    "    plt.ylabel(ylab)\n",
    "\n",
    "    #plt.show()\n",
    "    \n",
    "plot_hist(data, bins=20, xlim_min = 97, xlim_max = 103)\n",
    "plt.show()"
   ]
  },
  {
   "cell_type": "code",
   "execution_count": 4,
   "metadata": {},
   "outputs": [
    {
     "name": "stdout",
     "output_type": "stream",
     "text": [
      "20 ['0', '5', '10', '15', '20', '25', '30', '35', '40', '45', '50', '55', '60', '65', '70', '75', '80', '85', '90', '95']\n"
     ]
    },
    {
     "data": {
      "image/png": "[encoded data removed]",
      "text/plain": [
       "<Figure size 576x576 with 1 Axes>"
      ]
     },
     "metadata": {
      "needs_background": "light"
     },
     "output_type": "display_data"
    }
   ],
   "source": [
    "def plot_percentiles(data, title=\"percentiles\", size=10):\n",
    "    q = np.percentile(list(data), np.arange(0,100,size))\n",
    "    plt.figure(figsize=figsize)\n",
    "    names = [str(x) for x in list(np.arange(0,100,size))]\n",
    "    mx = np.max(q)\n",
    "    \n",
    "    if(mx < pow(2,12)):  \n",
    "        plt.axhline(y = 255,  linestyle = ':', label = \"8 bit\")\n",
    "    \n",
    "    if(mx >= pow(2,12)):    \n",
    "        plt.axhline(y = pow(2,12),  linestyle = ':', label = \"12 bit\")\n",
    "        \n",
    "    if(mx >= 65536):\n",
    "        plt.axhline(y = 65536,  linestyle = '--', label = \"16 bit\")\n",
    "        \n",
    "    if(mx >= pow(2,20)):    \n",
    "        plt.axhline(y = pow(2,20), linestyle = '-', label = \"20 bit\")\n",
    "    \n",
    "    if(mx >= pow(2,24)):    \n",
    "        plt.axhline(y = pow(2,24), linestyle = '.', label = \"24 bit\")\n",
    "        \n",
    "    if(mx >= pow(2,28)):    \n",
    "        plt.axhline(y = pow(2,28),  linestyle = '--', label = \"28 bit\")\n",
    "    \n",
    "    if(mx >= pow(2,32)):    \n",
    "        plt.axhline(y = pow(2,32),  linestyle = '-.', label = \"32 bit\")\n",
    "    \n",
    "    print(len(names),names)\n",
    "    plt.bar(names,list(q))\n",
    "    plt.grid()\n",
    "    plt.title(title)\n",
    "    plt.legend( loc = 'upper left')\n",
    "    #plt.show()\n",
    "\n",
    "plot_percentiles(data, size=5)\n",
    "plt.show()"
   ]
  },
  {
   "cell_type": "code",
   "execution_count": 7,
   "metadata": {
    "scrolled": true
   },
   "outputs": [
    {
     "name": "stdout",
     "output_type": "stream",
     "text": [
      "batches: 48828\n",
      "make rmap\n"
     ]
    },
    {
     "name": "stderr",
     "output_type": "stream",
     "text": [
      "100%|██████████| 48828/48828 [01:59<00:00, 406.91it/s]\n"
     ]
    },
    {
     "name": "stdout",
     "output_type": "stream",
     "text": [
      "plot start\n",
      "plot end\n",
      "batches: 48828\n",
      "make rmap\n"
     ]
    },
    {
     "name": "stderr",
     "output_type": "stream",
     "text": [
      "100%|██████████| 48828/48828 [02:04<00:00, 391.64it/s]\n"
     ]
    },
    {
     "name": "stdout",
     "output_type": "stream",
     "text": [
      "plot start\n",
      "plot end\n",
      "-->  Saving all figures... histograms_Twitter 200 Mio2.pdf\n"
     ]
    },
    {
     "name": "stderr",
     "output_type": "stream",
     "text": [
      "100%|██████████| 1/1 [00:00<00:00, 1129.93it/s]\n"
     ]
    }
   ],
   "source": [
    "hf = h5py.File(\"/tf/pointclouds_2d/data/twitter_200mio_coords.h5\",\"r\")\n",
    "datasets = [(\"OSM 200 Mio\",\"/tf/pointclouds_2d/data/asia_200mio_coords.h5\"),(\"Twitter 200 Mio\", \"/tf/pointclouds_2d/data/twitter_200mio_coords.h5\")]\n",
    "figsize = (6,6)\n",
    "resolutions = [8192*2]\n",
    "m = {}\n",
    "for ds, dsfn in datasets:\n",
    "    hf = h5py.File(dsfn,\"r\")\n",
    "    coords = hf['coords'][:];\n",
    "\n",
    "    len(coords)\n",
    "\n",
    "    bs = 4096\n",
    "    batches = int(len(coords)/bs)\n",
    "    print(f\"batches: {batches}\")\n",
    "    #batches = 10000\n",
    "    coord_list = []\n",
    "    csv = \"lon;lat\\n\"\n",
    "\n",
    "    for r in resolutions:\n",
    "        rmap = {}\n",
    "        print(\"make rmap\")\n",
    "        \"\"\"\n",
    "        for x in tqdm.tqdm(range(r)):\n",
    "            for y in range(r):\n",
    "                id = f'{x}.{y}'\n",
    "                rmap[id] = 0\n",
    "                \"\"\"\n",
    "        for batch in tqdm.tqdm(range(batches)):\n",
    "            #print(f\"batch {batch}/{batches}\")\n",
    "            b = coords[batch*bs:(batch+1)*bs]\n",
    "            lat = b[:,1]\n",
    "            lon = b[:,0]\n",
    "            lat = list(np.floor((lat+90)/180*r))\n",
    "            lon = list(np.floor((lon+180)/360)*r)\n",
    "            for c in zip(lon, lat):\n",
    "                id = f'{int(c[0])}.{int(c[1])}'\n",
    "                #print(id)\n",
    "                if id in rmap:\n",
    "                    rmap[id] += 1\n",
    "                else:\n",
    "                    rmap[id] = 1\n",
    "        print(\"plot start\")\n",
    "        rv = list(rmap.values())\n",
    "        m[ds] = rv\n",
    "        plot_hist(rv, bins=100, title=f\"Bin Sizes {ds} {r}x{r}\", xlab=\"Bin Size\", ylab=\"# of Bins\")\n",
    "        print(\"...\")        \n",
    "        plot_percentiles(rv, title=f\"Bin Size Percentiles {ds} {r}x{r}\", size=5)\n",
    "        print(\"plot end\")\n",
    "\n",
    "\n",
    "save_figs(f'histograms_{ds}2.pdf')"
   ]
  },
  {
   "cell_type": "code",
   "execution_count": 17,
   "metadata": {},
   "outputs": [
    {
     "name": "stdout",
     "output_type": "stream",
     "text": [
      "save_figs\n",
      "-->  Saving all figures... histograms_Twitter 200 Mio3.pdf\n"
     ]
    },
    {
     "name": "stderr",
     "output_type": "stream",
     "text": [
      "100%|██████████| 1/1 [00:00<00:00,  4.68it/s]\n"
     ]
    }
   ],
   "source": [
    "\n",
    "k = [x[0] for x in datasets]\n",
    "nbins=100\n",
    "dmin = min(min(m[k[0]]), min(m[k[1]]))\n",
    "         \n",
    "dmax = max(max(m[k[0]]), max(m[k[0]]))\n",
    "         \n",
    "fig = plt.figure(figsize=figsize)\n",
    "ax = fig.add_subplot(111)\n",
    "ax.set_yscale('log')\n",
    "bins = np.linspace(math.ceil(dmin), \n",
    "                   math.floor(dmax),\n",
    "                   nbins) # fixed number of bins\n",
    "\n",
    "xlim = [dmin-5, dmax+5]\n",
    "\n",
    "plt.xlim(xlim)\n",
    "\n",
    "plt.hist(m[k[0]], bins=bins, alpha=0.45, label=k[0])\n",
    "plt.hist(m[k[1]], bins=bins, alpha=0.45, label=k[1])\n",
    "\n",
    "\n",
    "plt.title(\"Bin Sizes\")\n",
    "plt.xlabel(\"Bin Size\")\n",
    "plt.ylabel(\"# of Bins\")\n",
    "\n",
    "mx = dmax\n",
    "\n",
    "if(mx < pow(2,12)):  \n",
    "    plt.axvline(x = 255, c=\"red\", linestyle = ':', label = \"8 bit\")\n",
    "\n",
    "if(mx >= pow(2,12)):    \n",
    "    plt.axvline(x = pow(2,12), c=\"red\", linestyle = ':', label = \"12 bit\")\n",
    "\n",
    "if(mx >= 65536):\n",
    "    plt.axvline(x= 65536, c=\"red\", linestyle = '--', label = \"16 bit\")\n",
    "\n",
    "if(mx >= pow(2,17)):    \n",
    "    plt.axvline(x = pow(2,17), c=\"red\", linestyle = '-', label = \"17 bit\")\n",
    "if(mx >= pow(2,18)):    \n",
    "    plt.axvline(x = pow(2,18), c=\"red\", linestyle = '-.', label = \"18 bit\")\n",
    "\n",
    "if(mx >= pow(2,20)):    \n",
    "    plt.axvline(x = pow(2,20), c=\"red\",linestyle = ':', label = \"20 bit\")\n",
    "\n",
    "if(mx >= pow(2,24)):    \n",
    "    plt.axvline(x = pow(2,24), c=\"red\",linestyle = '--', label = \"24 bit\")\n",
    "\n",
    "if(mx >= pow(2,28)):    \n",
    "    plt.axvline(x = pow(2,28),  c=\"red\",linestyle = '-', label = \"28 bit\")\n",
    "\n",
    "if(mx >= pow(2,32)):    \n",
    "    plt.axvline(x = pow(2,32),  c=\"red\",linestyle = '-.', label = \"32 bit\")\n",
    "\n",
    "plt.legend( loc = 'upper right')\n",
    "\n",
    "\n",
    "print(\"save_figs\")\n",
    "save_figs(f'histograms_{ds}3.pdf')"
   ]
  },
  {
   "cell_type": "code",
   "execution_count": 25,
   "metadata": {},
   "outputs": [
    {
     "name": "stderr",
     "output_type": "stream",
     "text": [
      "/usr/local/lib/python3.6/dist-packages/ipykernel_launcher.py:16: UserWarning: Attempted to set non-positive left xlim on a log-scaled axis.\n",
      "Invalid limit will be ignored.\n",
      "  app.launch_new_instance()\n"
     ]
    },
    {
     "data": {
      "image/png": "[encoded data removed]",
      "text/plain": [
       "<Figure size 576x576 with 1 Axes>"
      ]
     },
     "metadata": {
      "needs_background": "light"
     },
     "output_type": "display_data"
    },
    {
     "name": "stdout",
     "output_type": "stream",
     "text": [
      "save_figs\n"
     ]
    }
   ],
   "source": [
    "\n",
    "k = [x[0] for x in datasets]\n",
    "nbins=100\n",
    "dmin = min(min(m[k[0]]), min(m[k[1]]))\n",
    "         \n",
    "dmax = max(max(m[k[0]]), max(m[k[1]]))\n",
    "         \n",
    "fig = plt.figure(figsize=figsize)\n",
    "ax = fig.add_subplot(111)\n",
    "ax.set_yscale('log')\n",
    "ax.set_xscale('log')\n",
    "bins = np.linspace(math.ceil(dmin), \n",
    "                   math.floor(dmax),\n",
    "                   nbins) # fixed number of bins\n",
    "xlim = [dmin-5, dmax+5]\n",
    "\n",
    "plt.xlim(xlim)\n",
    "\n",
    "plt.hist(m[k[0]], bins=bins, alpha=0.45, label=k[0])\n",
    "plt.hist(m[k[1]], bins=bins, alpha=0.45, label=k[1])\n",
    "\n",
    "\n",
    "plt.title(\"Bin Sizes}\")\n",
    "plt.xlabel(\"Bin Size\")\n",
    "plt.ylabel(\"# of Bins\")\n",
    "\n",
    "\n",
    "plt.axvline(x = 255, color = 'r', linestyle = ':', label = \"8 bit\")\n",
    "if(dmax >= 65536):\n",
    "    plt.axvline(x = 65536, color = 'r', linestyle = '--', label = \"16 bit\")\n",
    "#if(dmax >= pow(2,24)):    \n",
    "#    plt.axvline(x = pow(2,24), color = 'r', linestyle = '-', label = \"24 bit\")\n",
    "\n",
    "if(dmax >= pow(2,32)):    \n",
    "    plt.axvline(x = pow(2,32), color = 'r', linestyle = '-.', label = \"32 bit\")\n",
    "        \n",
    "\n",
    "plt.legend( loc = 'upper right')\n",
    "plt.show()\n",
    "print(\"save_figs\")"
   ]
  },
  {
   "cell_type": "code",
   "execution_count": 38,
   "metadata": {},
   "outputs": [
    {
     "name": "stdout",
     "output_type": "stream",
     "text": [
      "Materializing\n",
      "Raster Transform\n",
      "Counting\n",
      "Abundance\n",
      "Materializing\n",
      "Raster Transform\n",
      "Counting\n",
      "Abundance\n"
     ]
    }
   ],
   "source": [
    "x = {}\n",
    "m = {}\n",
    "for ds, dsfn in datasets:\n",
    "    hf = h5py.File(dsfn,\"r\")\n",
    "    coords = hf['coords'][:10_000_000];\n",
    "    print(\"Materializing\")\n",
    "    c = coords[:1_000_000]\n",
    "    print(\"Raster Transform\")\n",
    "    c = ((c + [180.0, 90.0])/ [360.0,180.0]*[r,r]).astype(np.int_)\n",
    "    print(\"Counting\")\n",
    "    x,c = np.unique(c,axis=0, return_counts=True)\n",
    "\n",
    "\n",
    "    #abundance = {count:str(item) for item,count in zip(x,c)}\n",
    "    #print(abundance)\n",
    "    print(\"Abundance\")\n",
    "    c = np.sort(c)\n",
    "    m[ds]= c\n",
    "    c= c[::-1]\n",
    "    np.savetxt(f\"{ds}-abundance.dat\",c)"
   ]
  },
  {
   "cell_type": "code",
   "execution_count": 43,
   "metadata": {},
   "outputs": [
    {
     "data": {
      "image/png": "[encoded data removed]",
      "text/plain": [
       "<Figure size 576x576 with 1 Axes>"
      ]
     },
     "metadata": {
      "needs_background": "light"
     },
     "output_type": "display_data"
    }
   ],
   "source": [
    "k = [x[0] for x in datasets]\n",
    "nbins=100\n",
    "dmin = min(min(m[k[0]]), min(m[k[1]]))\n",
    "         \n",
    "dmax = max(max(m[k[0]]), max(m[k[1]]))\n",
    "         \n",
    "fig = plt.figure(figsize=figsize)\n",
    "ax = fig.add_subplot(111)\n",
    "#ax.set_yscale('log')\n",
    "#ax.set_xscale('log')\n",
    "bins = np.linspace(math.ceil(dmin), \n",
    "                   math.floor(dmax),\n",
    "                   nbins) # fixed number of bins\n",
    "xlim = [dmin-5, dmax+5]\n",
    "\n",
    "plt.xlim(xlim)\n",
    "plt.bar(range(len(m[k[0]])),m[k[0]],  alpha=0.45, label=k[0])\n",
    "#plt.hist(m[k[0]], bins=bins, alpha=0.45, label=k[0])\n",
    "#plt.hist(m[k[1]], bins=bins, alpha=0.45, label=k[1])\n",
    "\n",
    "\n",
    "plt.title(\"Bin Sizes}\")\n",
    "plt.xlabel(\"Bin Size\")\n",
    "plt.ylabel(\"# of Bins\")\n",
    "\n",
    "\n",
    "plt.axvline(x = 255, color = 'r', linestyle = ':', label = \"8 bit\")\n",
    "if(dmax >= 65536):\n",
    "    plt.axvline(x = 65536, color = 'r', linestyle = '--', label = \"16 bit\")\n",
    "#if(dmax >= pow(2,24)):    \n",
    "#    plt.axvline(x = pow(2,24), color = 'r', linestyle = '-', label = \"24 bit\")\n",
    "\n",
    "if(dmax >= pow(2,32)):    \n",
    "    plt.axvline(x = pow(2,32), color = 'r', linestyle = '-.', label = \"32 bit\")\n",
    "        \n",
    "\n",
    "plt.legend( loc = 'upper right')\n",
    "plt.show()"
   ]
  },
  {
   "cell_type": "code",
   "execution_count": null,
   "metadata": {},
   "outputs": [],
   "source": []
  }
 ],
 "metadata": {
  "kernelspec": {
   "display_name": "Python 3",
   "language": "python",
   "name": "python3"
  },
  "language_info": {
   "codemirror_mode": {
    "name": "ipython",
    "version": 3
   },
   "file_extension": ".py",
   "mimetype": "text/x-python",
   "name": "python",
   "nbconvert_exporter": "python",
   "pygments_lexer": "ipython3",
   "version": "3.6.9"
  }
 },
 "nbformat": 4,
 "nbformat_minor": 4
}
